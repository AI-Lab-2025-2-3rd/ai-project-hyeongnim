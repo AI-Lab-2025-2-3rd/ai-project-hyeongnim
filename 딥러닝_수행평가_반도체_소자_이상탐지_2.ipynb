{
  "nbformat": 4,
  "nbformat_minor": 0,
  "metadata": {
    "colab": {
      "provenance": [],
      "gpuType": "T4",
      "include_colab_link": true
    },
    "kernelspec": {
      "name": "python3",
      "display_name": "Python 3"
    },
    "language_info": {
      "name": "python"
    },
    "accelerator": "GPU"
  },
  "cells": [
    {
      "cell_type": "markdown",
      "metadata": {
        "id": "view-in-github",
        "colab_type": "text"
      },
      "source": [
        "<a href=\"https://colab.research.google.com/github/AI-Lab-2025-2-3rd/ai-project-hyeongnim/blob/main/%EB%94%A5%EB%9F%AC%EB%8B%9D_%EC%88%98%ED%96%89%ED%8F%89%EA%B0%80_%EB%B0%98%EB%8F%84%EC%B2%B4_%EC%86%8C%EC%9E%90_%EC%9D%B4%EC%83%81%ED%83%90%EC%A7%80_2.ipynb\" target=\"_parent\"><img src=\"https://colab.research.google.com/assets/colab-badge.svg\" alt=\"Open In Colab\"/></a>"
      ]
    },
    {
      "cell_type": "code",
      "execution_count": 1,
      "metadata": {
        "id": "rySjBewTvwZs"
      },
      "outputs": [],
      "source": [
        "import os\n",
        "import numpy as np\n",
        "import pandas as pd\n",
        "import math\n",
        "import matplotlib.pyplot as plt\n",
        "import cv2\n",
        "from PIL import Image\n",
        "from tqdm import tqdm\n",
        "from pathlib import Path\n",
        "\n",
        "import torch\n",
        "import torch.nn as nn\n",
        "from torch.utils.data import Dataset, DataLoader\n",
        "from torchvision import transforms, models\n",
        "import torchvision.transforms.functional as TF\n",
        "from skimage.transform import resize as sk_resize"
      ]
    },
    {
      "cell_type": "code",
      "source": [
        "import zipfile\n",
        "\n",
        "with zipfile.ZipFile(\"/content/data.zip\", 'r') as target_file:\n",
        "    target_file.extractall('/content/data')"
      ],
      "metadata": {
        "id": "z0qNKY6vr60n"
      },
      "execution_count": 2,
      "outputs": []
    },
    {
      "cell_type": "code",
      "source": [
        "# 데이터 로딩 클래스 정의\n",
        "class CustomDataset(Dataset):\n",
        "    def __init__(self, csv_file, transform=None):\n",
        "        \"\"\"\n",
        "        Args:\n",
        "            csv_file (string): csv 파일의 경로.\n",
        "            transform (callable, optional): 샘플에 적용될 Optional transform.\n",
        "        \"\"\"\n",
        "        self.df = pd.read_csv(csv_file)\n",
        "        # Assuming the image paths in the CSV are relative and the images are extracted to /content/data/open/\n",
        "        self.df[\"img_path\"] = self.df[\"img_path\"].apply(lambda x: os.path.join(\"/content/data/open\", x))\n",
        "        self.transform = transform\n",
        "\n",
        "    def __len__(self):\n",
        "        return len(self.df)\n",
        "\n",
        "    def __getitem__(self, idx):\n",
        "        img_path = self.df[\"img_path\"].iloc[idx]\n",
        "        image = Image.open(img_path)\n",
        "        if self.transform:\n",
        "            image = self.transform(image)\n",
        "        target = torch.tensor([0.0]).float()\n",
        "        return image, target\n",
        "\n",
        "\n",
        "# 이미지 전처리 및 임베딩\n",
        "transform = transforms.Compose(\n",
        "    [\n",
        "        transforms.Resize((256, 256)),  # NOTE: 256 x 256 resize\n",
        "        transforms.CenterCrop((224, 224)),\n",
        "        transforms.ToTensor(),\n",
        "        transforms.Normalize(mean=[0.485, 0.456, 0.406], std=[0.229, 0.224, 0.225]),\n",
        "    ]\n",
        ")"
      ],
      "metadata": {
        "id": "DW1tCdfluFH6"
      },
      "execution_count": 3,
      "outputs": []
    },
    {
      "cell_type": "code",
      "source": [
        "device = torch.device(\"cuda\")\n",
        "memory_bank_path = \"./memory_bank/resnet18\"  # memory bank를 저장할 경로"
      ],
      "metadata": {
        "id": "g_hXGuY1szXW"
      },
      "execution_count": 4,
      "outputs": []
    },
    {
      "cell_type": "code",
      "source": [
        "model = models.resnet18(weights=models.ResNet18_Weights.IMAGENET1K_V1)\n",
        "\n",
        "model.eval()\n",
        "test = nn.Sequential(*list(model.children())[:-3])\n",
        "model = model.to(device)\n",
        "\n",
        "# 기호 정리:\n",
        "# N: batch size\n",
        "# N': memory bank size\n",
        "# query: query size\n",
        "# D: target_dim\n",
        "# |A|: patch collection size\n",
        "# |P|: patch_size\n",
        "\n",
        "\n",
        "# Patchcore Implementation - https://arxiv.org/abs/2106.08265\n",
        "class PatchCore(nn.Module):\n",
        "    def __init__(\n",
        "        self,\n",
        "        backbone,\n",
        "        per_memory_bank_size=4,\n",
        "        memory_bank_path=\"./memory_bank\",\n",
        "        device=device,\n",
        "        target_dim=384 * 3,  # |D|\n",
        "        patch_size=3,  # |P|\n",
        "        d=3,  # nearest\n",
        "    ):\n",
        "        \"\"\"\n",
        "        Args:\n",
        "            backbone: torch.nn.Module\n",
        "            per_memory_bank_size: int\n",
        "            memory_bank_path: str\n",
        "            device: torch.device\n",
        "            target_dim: int\n",
        "            patch_size: int\n",
        "            d: int\n",
        "        \"\"\"\n",
        "\n",
        "        super().__init__()\n",
        "        self.backbone = model\n",
        "        self.backbone.eval()\n",
        "\n",
        "        self.layer2_output, self.layer3_output = None, None\n",
        "        self.register_hook_for_layer2()  # register hook for layer2\n",
        "        self.register_hook_for_layer3()  # register hook for layer3\n",
        "\n",
        "        self.memory_bank = None\n",
        "        self.per_memory_bank_size = per_memory_bank_size\n",
        "        self.memory_bank_path = memory_bank_path\n",
        "        self.device = device\n",
        "        self.target_dim = target_dim\n",
        "        self.average_pool = nn.AdaptiveAvgPool1d(self.target_dim)\n",
        "        self.patch_size = patch_size\n",
        "        self.d = d\n",
        "\n",
        "    def register_hook_for_layer2(self):\n",
        "        self.backbone.layer2.register_forward_hook(self._register_hook_for_layer2)\n",
        "\n",
        "    def _register_hook_for_layer2(self, module, input, output):  # (B, 128, 28, 28)\n",
        "        layer2_output = output\n",
        "        self.layer2_output = layer2_output  # (B, 128, 28, 28)\n",
        "        # self.layer2_output = None\n",
        "\n",
        "    def register_hook_for_layer3(self):\n",
        "        self.backbone.layer3.register_forward_hook(self._register_hook_for_layer3)\n",
        "\n",
        "    def _register_hook_for_layer3(self, module, input, output):  # (B, 256, 14, 14)\n",
        "        layer3_output = output\n",
        "        layer3_output = nn.functional.interpolate(\n",
        "            layer3_output, scale_factor=2, mode=\"bilinear\"\n",
        "        )\n",
        "        self.layer3_output = layer3_output  # (B, 256, 28, 28)\n",
        "\n",
        "    def save_memory_bank(self, train_batch, file_name):\n",
        "        \"\"\"\n",
        "        training batch를 받아서 memory bank에 저장한다.\n",
        "        \"\"\"\n",
        "        self.backbone(train_batch)\n",
        "        path = os.path.join(self.memory_bank_path, file_name)\n",
        "        new_memory = self.patch_collection(self.patch_size)\n",
        "        new_memory = new_memory.reshape(-1, new_memory.shape[-1])\n",
        "        torch.save(new_memory, path)\n",
        "\n",
        "    def loader_memory_bank(self):\n",
        "        \"\"\"\n",
        "        memory bank를 이터레이터로 불러온다.\n",
        "        \"\"\"\n",
        "        file_list = os.listdir(self.memory_bank_path)\n",
        "        file_list = [file for file in file_list if file.endswith(\".pth\")]\n",
        "        file_list.sort()\n",
        "        for file in file_list:\n",
        "            path = os.path.join(self.memory_bank_path, file)\n",
        "            new_memory = torch.load(path, map_location=self.device)\n",
        "\n",
        "            yield new_memory\n",
        "\n",
        "    def forward(self, x):\n",
        "        self.backbone(x)\n",
        "        query = self.patch_collection(self.patch_size)  # (N, |A|, D)\n",
        "        l2 = torch.Tensor([]).to(device)\n",
        "        for memory in self.loader_memory_bank():\n",
        "            l2 = torch.cat((l2, self.cal_l2(query, memory)), dim=1)\n",
        "            del memory\n",
        "\n",
        "        s_ = self.get_anomaly_score(l2)\n",
        "        s = self.update_anomaly_score(s_, l2, self.d)\n",
        "        return s\n",
        "\n",
        "    def get_anomaly_score(self, l2):\n",
        "        \"\"\"\n",
        "        Args:\n",
        "            l2: (query, N', |A|)\n",
        "        \"\"\"\n",
        "        min_l2 = l2.min(dim=1).values  # (query, |A|)\n",
        "        max_min_l2 = min_l2.max(dim=1).values  # (query, )\n",
        "        return max_min_l2\n",
        "\n",
        "    def update_anomaly_score(self, s_, l2: torch.Tensor, d):\n",
        "        \"\"\"\n",
        "        Args:\n",
        "            l2: (query, N', |A|)\n",
        "            d = nearest\n",
        "        \"\"\"\n",
        "        m_train = l2.min(dim=1)  # (query, |A|)\n",
        "        m_test = m_train.values.max(dim=1)  # (query)\n",
        "        m_for_test = l2[:, :, m_test.indices]  # (query, N')\n",
        "        m_train_nearest = m_for_test.topk(k=d, dim=1).values  # (query, d)\n",
        "\n",
        "        update_weight = 1 - (\n",
        "            torch.exp(m_test.values) / torch.exp(m_train_nearest).sum(dim=1)\n",
        "        )\n",
        "        s = s_ * update_weight\n",
        "        return s\n",
        "\n",
        "    def cal_l2(self, query, memory_bank):\n",
        "        \"\"\"\n",
        "        return: (query_size, memory_bank_size, |A|)\n",
        "        \"\"\"\n",
        "        memory_bank = memory_bank.unsqueeze(1)  # (N', 1, D)\n",
        "        N, D = memory_bank.shape[0], memory_bank.shape[2]\n",
        "        memory_bank = memory_bank.expand(N, query.shape[1], D)  # (N', |A|, D)\n",
        "        l2 = []\n",
        "        for q in query:\n",
        "            q = q.unsqueeze(0)  # (1, |A|, D)\n",
        "            diff = memory_bank - q  # (N', |A|, D)\n",
        "            l2_ = diff.square().sum(dim=2)  # (N', |A|)\n",
        "            l2_ = l2_.sqrt()\n",
        "            l2.append(l2_)\n",
        "            del q\n",
        "        l2 = torch.stack(l2, dim=0)  # (query, N', |A|)\n",
        "        return l2\n",
        "\n",
        "    def feature(self, h, w):\n",
        "        \"\"\"\n",
        "        return: (N, C)\n",
        "        \"\"\"\n",
        "        H, W = self.layer2_output.shape[2], self.layer2_output.shape[3]\n",
        "        if not (0 <= h < H and 0 <= w < W):\n",
        "            return torch.tensor([]).to(self.device)\n",
        "        layer2 = self.layer2_output[:, :, h, w]  # (B, C)\n",
        "\n",
        "        # TODO: 아래 코드\n",
        "        if self.layer3_output is not None:\n",
        "            layer3 = self.layer3_output[:, :, h, w]  # (B, C')\n",
        "        else:\n",
        "            layer3 = torch.tensor([]).to(self.device)\n",
        "\n",
        "        feature = torch.cat((layer2, layer3), dim=1)\n",
        "        return feature\n",
        "\n",
        "    def neighborhood_features(self, h, w, patch_size):\n",
        "        \"\"\"\n",
        "        return: (N, |P|, C) -> path_size x patch_size\n",
        "        \"\"\"\n",
        "        features = []\n",
        "        for i in range(math.floor(-patch_size / 2), math.floor(patch_size / 2)):\n",
        "            for j in range(math.floor(-patch_size / 2), math.floor(patch_size / 2)):\n",
        "                feature = self.feature(h + i, w + j)\n",
        "                if feature.shape[0] == 0:\n",
        "                    continue\n",
        "                features.append(feature)\n",
        "        features = torch.stack(features, dim=1)\n",
        "        return features\n",
        "\n",
        "    def patch(self, h, w, patch_size):\n",
        "        \"\"\"\n",
        "        return: (N, D)\n",
        "        \"\"\"\n",
        "        features = self.neighborhood_features(h, w, patch_size)\n",
        "        features = features.permute(0, 2, 1)  # (N, C, |P|)\n",
        "        features = features.reshape(features.shape[0], -1)  # (N, C X |P|)\n",
        "        features = self.average_pool(features)  # (N, target_dim) = (N, D)\n",
        "        return features\n",
        "\n",
        "    def patch_collection(self, patch_size):\n",
        "        \"\"\"\n",
        "        return: (N, |A|, D)\n",
        "        \"\"\"\n",
        "        H, W = self.layer2_output.shape[2], self.layer2_output.shape[3]\n",
        "\n",
        "        patch_collection = []\n",
        "        # average pooling으로 나눌 수 있게 중심만 고려한다.\n",
        "        for h in range(math.ceil(patch_size / 2), H - math.ceil(patch_size / 2)):\n",
        "            for w in range(math.ceil(patch_size / 2), W - math.ceil(patch_size / 2)):\n",
        "                patch = self.patch(h, w, patch_size)\n",
        "                patch_collection.append(patch)\n",
        "        patch_collection = torch.stack(patch_collection, dim=1)\n",
        "        return patch_collection"
      ],
      "metadata": {
        "id": "7Hxn2a5tpJeF",
        "colab": {
          "base_uri": "https://localhost:8080/"
        },
        "outputId": "7310ef64-a2d9-4d60-a7e9-ea6c0a4f9967"
      },
      "execution_count": 5,
      "outputs": [
        {
          "output_type": "stream",
          "name": "stdout",
          "text": [
            "Downloading: \"https://download.pytorch.org/models/resnet18-f37072fd.pth\" to /root/.cache/torch/hub/checkpoints/resnet18-f37072fd.pth\n"
          ]
        },
        {
          "output_type": "stream",
          "name": "stderr",
          "text": [
            "100%|██████████| 44.7M/44.7M [00:00<00:00, 191MB/s]\n"
          ]
        }
      ]
    },
    {
      "cell_type": "code",
      "source": [
        "params = {\n",
        "    \"patch_size\": 5,\n",
        "    \"per_memory_bank_size\": 1,\n",
        "    \"d\": 2,\n",
        "    \"target_dim\": 1920,\n",
        "}"
      ],
      "metadata": {
        "id": "82RXTiYktmXi"
      },
      "execution_count": 6,
      "outputs": []
    },
    {
      "cell_type": "code",
      "source": [
        "k = 13  # Train data를 몇 개씩 slice할 것인지"
      ],
      "metadata": {
        "id": "qK1SmrWhHbMI"
      },
      "execution_count": 7,
      "outputs": []
    },
    {
      "cell_type": "code",
      "source": [
        "# Threshold 구하기\n",
        "data = pd.read_csv(\"/content/data/open/train.csv\")\n",
        "sum = 0.0\n",
        "m = 213 // k\n",
        "\n",
        "\n",
        "def save2(batch_size=1, config=dict()):  # Threshold 구하는 데 필요한 save 함수\n",
        "    # memory_bank_path 폴더 초기화\n",
        "    if os.path.exists(memory_bank_path):\n",
        "        for file in os.listdir(memory_bank_path):\n",
        "            os.remove(os.path.join(memory_bank_path, file))\n",
        "    else:\n",
        "        os.makedirs(memory_bank_path)\n",
        "\n",
        "    patch_core = PatchCore(model, memory_bank_path=memory_bank_path, **config)\n",
        "    train_data = CustomDataset(csv_file=\"./train2.csv\", transform=transform)\n",
        "    train_loader = DataLoader(train_data, batch_size=batch_size, shuffle=False)\n",
        "\n",
        "    for idx, x in enumerate(tqdm(train_loader)):\n",
        "        x = x[0].to(device)\n",
        "        patch_core.save_memory_bank(x, f\"memory_bank_{batch_size*idx}.pth\")\n",
        "\n",
        "\n",
        "for i in range(m):\n",
        "    j = i * k\n",
        "    validation_indices = range(j, j + 13)  # 13개씩 슬라이싱\n",
        "    validation_idx = data.loc[validation_indices]\n",
        "    train_idx = data.drop(validation_indices)\n",
        "\n",
        "    train_idx.to_csv(\"./train2.csv\", index=False)\n",
        "    validation_idx.to_csv(\"./validation.csv\", index=False)\n",
        "\n",
        "    save2(batch_size=1, config=params)\n",
        "\n",
        "    patch_core = PatchCore(model, memory_bank_path=memory_bank_path, **params)\n",
        "    test_data = CustomDataset(csv_file=\"./validation.csv\", transform=transform)\n",
        "    test_loader = DataLoader(test_data, batch_size=1, shuffle=False)\n",
        "    anomaly_score = torch.tensor([], device=device)\n",
        "    with torch.no_grad():\n",
        "        for idx, x in tqdm(enumerate(test_loader), desc=\"query\"):\n",
        "            x = x[0].to(device)\n",
        "            l2 = patch_core.forward(x)\n",
        "\n",
        "            print(f\"l2: {l2}\")\n",
        "\n",
        "            anomaly_score = torch.cat([anomaly_score, l2], dim=0)\n",
        "            anomaly_score_sorted_idx = anomaly_score.sort(descending=True).indices\n",
        "\n",
        "    anomaly_score = anomaly_score.cpu()\n",
        "\n",
        "    max_value, max_index = torch.max(anomaly_score, 0)\n",
        "    print(f\"{i+1}th slice max value : {max_value.item():.4f} \\n\")\n",
        "    sum += max_value.item()"
      ],
      "metadata": {
        "id": "1A9ubpeaHc5e",
        "colab": {
          "base_uri": "https://localhost:8080/"
        },
        "outputId": "9f668c3a-3778-4257-da4c-186894b7e2f4"
      },
      "execution_count": 9,
      "outputs": [
        {
          "output_type": "stream",
          "name": "stderr",
          "text": [
            "100%|██████████| 200/200 [02:21<00:00,  1.42it/s]\n",
            "query: 1it [00:08,  8.66s/it]"
          ]
        },
        {
          "output_type": "stream",
          "name": "stdout",
          "text": [
            "l2: tensor([[4.6534]], device='cuda:0')\n"
          ]
        },
        {
          "output_type": "stream",
          "name": "stderr",
          "text": [
            "\rquery: 2it [00:16,  8.39s/it]"
          ]
        },
        {
          "output_type": "stream",
          "name": "stdout",
          "text": [
            "l2: tensor([[4.5139]], device='cuda:0')\n"
          ]
        },
        {
          "output_type": "stream",
          "name": "stderr",
          "text": [
            "\rquery: 3it [00:25,  8.30s/it]"
          ]
        },
        {
          "output_type": "stream",
          "name": "stdout",
          "text": [
            "l2: tensor([[4.2865]], device='cuda:0')\n"
          ]
        },
        {
          "output_type": "stream",
          "name": "stderr",
          "text": [
            "\rquery: 4it [00:33,  8.26s/it]"
          ]
        },
        {
          "output_type": "stream",
          "name": "stdout",
          "text": [
            "l2: tensor([[4.1258]], device='cuda:0')\n"
          ]
        },
        {
          "output_type": "stream",
          "name": "stderr",
          "text": [
            "\rquery: 5it [00:41,  8.23s/it]"
          ]
        },
        {
          "output_type": "stream",
          "name": "stdout",
          "text": [
            "l2: tensor([[4.0358]], device='cuda:0')\n"
          ]
        },
        {
          "output_type": "stream",
          "name": "stderr",
          "text": [
            "\rquery: 6it [00:49,  8.22s/it]"
          ]
        },
        {
          "output_type": "stream",
          "name": "stdout",
          "text": [
            "l2: tensor([[4.8547]], device='cuda:0')\n"
          ]
        },
        {
          "output_type": "stream",
          "name": "stderr",
          "text": [
            "\rquery: 7it [00:57,  8.22s/it]"
          ]
        },
        {
          "output_type": "stream",
          "name": "stdout",
          "text": [
            "l2: tensor([[4.0359]], device='cuda:0')\n"
          ]
        },
        {
          "output_type": "stream",
          "name": "stderr",
          "text": [
            "\rquery: 8it [01:06,  8.21s/it]"
          ]
        },
        {
          "output_type": "stream",
          "name": "stdout",
          "text": [
            "l2: tensor([[4.5468]], device='cuda:0')\n"
          ]
        },
        {
          "output_type": "stream",
          "name": "stderr",
          "text": [
            "\rquery: 9it [01:14,  8.29s/it]"
          ]
        },
        {
          "output_type": "stream",
          "name": "stdout",
          "text": [
            "l2: tensor([[4.3143]], device='cuda:0')\n"
          ]
        },
        {
          "output_type": "stream",
          "name": "stderr",
          "text": [
            "\rquery: 10it [01:22,  8.27s/it]"
          ]
        },
        {
          "output_type": "stream",
          "name": "stdout",
          "text": [
            "l2: tensor([[4.0587]], device='cuda:0')\n"
          ]
        },
        {
          "output_type": "stream",
          "name": "stderr",
          "text": [
            "\rquery: 11it [01:30,  8.25s/it]"
          ]
        },
        {
          "output_type": "stream",
          "name": "stdout",
          "text": [
            "l2: tensor([[4.4867]], device='cuda:0')\n"
          ]
        },
        {
          "output_type": "stream",
          "name": "stderr",
          "text": [
            "\rquery: 12it [01:39,  8.29s/it]"
          ]
        },
        {
          "output_type": "stream",
          "name": "stdout",
          "text": [
            "l2: tensor([[3.9657]], device='cuda:0')\n"
          ]
        },
        {
          "output_type": "stream",
          "name": "stderr",
          "text": [
            "query: 13it [01:47,  8.27s/it]\n"
          ]
        },
        {
          "output_type": "stream",
          "name": "stdout",
          "text": [
            "l2: tensor([[3.8500]], device='cuda:0')\n",
            "1th slice max value : 4.8547 \n",
            "\n"
          ]
        },
        {
          "output_type": "stream",
          "name": "stderr",
          "text": [
            "100%|██████████| 200/200 [02:18<00:00,  1.44it/s]\n",
            "query: 1it [00:08,  8.41s/it]"
          ]
        },
        {
          "output_type": "stream",
          "name": "stdout",
          "text": [
            "l2: tensor([[4.5626]], device='cuda:0')\n"
          ]
        },
        {
          "output_type": "stream",
          "name": "stderr",
          "text": [
            "\rquery: 2it [00:16,  8.28s/it]"
          ]
        },
        {
          "output_type": "stream",
          "name": "stdout",
          "text": [
            "l2: tensor([[4.3278]], device='cuda:0')\n"
          ]
        },
        {
          "output_type": "stream",
          "name": "stderr",
          "text": [
            "\rquery: 3it [00:24,  8.23s/it]"
          ]
        },
        {
          "output_type": "stream",
          "name": "stdout",
          "text": [
            "l2: tensor([[4.2507]], device='cuda:0')\n"
          ]
        },
        {
          "output_type": "stream",
          "name": "stderr",
          "text": [
            "\rquery: 4it [00:33,  8.31s/it]"
          ]
        },
        {
          "output_type": "stream",
          "name": "stdout",
          "text": [
            "l2: tensor([[4.4095]], device='cuda:0')\n"
          ]
        },
        {
          "output_type": "stream",
          "name": "stderr",
          "text": [
            "\rquery: 5it [00:41,  8.28s/it]"
          ]
        },
        {
          "output_type": "stream",
          "name": "stdout",
          "text": [
            "l2: tensor([[4.6819]], device='cuda:0')\n"
          ]
        },
        {
          "output_type": "stream",
          "name": "stderr",
          "text": [
            "\rquery: 6it [00:49,  8.25s/it]"
          ]
        },
        {
          "output_type": "stream",
          "name": "stdout",
          "text": [
            "l2: tensor([[4.3553]], device='cuda:0')\n"
          ]
        },
        {
          "output_type": "stream",
          "name": "stderr",
          "text": [
            "\rquery: 7it [00:57,  8.23s/it]"
          ]
        },
        {
          "output_type": "stream",
          "name": "stdout",
          "text": [
            "l2: tensor([[3.8408]], device='cuda:0')\n"
          ]
        },
        {
          "output_type": "stream",
          "name": "stderr",
          "text": [
            "\rquery: 8it [01:05,  8.22s/it]"
          ]
        },
        {
          "output_type": "stream",
          "name": "stdout",
          "text": [
            "l2: tensor([[4.4928]], device='cuda:0')\n"
          ]
        },
        {
          "output_type": "stream",
          "name": "stderr",
          "text": [
            "\rquery: 9it [01:14,  8.21s/it]"
          ]
        },
        {
          "output_type": "stream",
          "name": "stdout",
          "text": [
            "l2: tensor([[3.8959]], device='cuda:0')\n"
          ]
        },
        {
          "output_type": "stream",
          "name": "stderr",
          "text": [
            "\rquery: 10it [01:22,  8.20s/it]"
          ]
        },
        {
          "output_type": "stream",
          "name": "stdout",
          "text": [
            "l2: tensor([[4.6354]], device='cuda:0')\n"
          ]
        },
        {
          "output_type": "stream",
          "name": "stderr",
          "text": [
            "\rquery: 11it [01:30,  8.20s/it]"
          ]
        },
        {
          "output_type": "stream",
          "name": "stdout",
          "text": [
            "l2: tensor([[4.1734]], device='cuda:0')\n"
          ]
        },
        {
          "output_type": "stream",
          "name": "stderr",
          "text": [
            "\rquery: 12it [01:38,  8.20s/it]"
          ]
        },
        {
          "output_type": "stream",
          "name": "stdout",
          "text": [
            "l2: tensor([[4.3128]], device='cuda:0')\n"
          ]
        },
        {
          "output_type": "stream",
          "name": "stderr",
          "text": [
            "query: 13it [01:46,  8.23s/it]\n"
          ]
        },
        {
          "output_type": "stream",
          "name": "stdout",
          "text": [
            "l2: tensor([[3.8256]], device='cuda:0')\n",
            "2th slice max value : 4.6819 \n",
            "\n"
          ]
        },
        {
          "output_type": "stream",
          "name": "stderr",
          "text": [
            "100%|██████████| 200/200 [02:19<00:00,  1.43it/s]\n",
            "query: 1it [00:08,  8.18s/it]"
          ]
        },
        {
          "output_type": "stream",
          "name": "stdout",
          "text": [
            "l2: tensor([[4.1984]], device='cuda:0')\n"
          ]
        },
        {
          "output_type": "stream",
          "name": "stderr",
          "text": [
            "\rquery: 2it [00:16,  8.17s/it]"
          ]
        },
        {
          "output_type": "stream",
          "name": "stdout",
          "text": [
            "l2: tensor([[4.2456]], device='cuda:0')\n"
          ]
        },
        {
          "output_type": "stream",
          "name": "stderr",
          "text": [
            "\rquery: 3it [00:24,  8.26s/it]"
          ]
        },
        {
          "output_type": "stream",
          "name": "stdout",
          "text": [
            "l2: tensor([[4.1263]], device='cuda:0')\n"
          ]
        },
        {
          "output_type": "stream",
          "name": "stderr",
          "text": [
            "\rquery: 4it [00:32,  8.23s/it]"
          ]
        },
        {
          "output_type": "stream",
          "name": "stdout",
          "text": [
            "l2: tensor([[4.1281]], device='cuda:0')\n"
          ]
        },
        {
          "output_type": "stream",
          "name": "stderr",
          "text": [
            "\rquery: 5it [00:41,  8.21s/it]"
          ]
        },
        {
          "output_type": "stream",
          "name": "stdout",
          "text": [
            "l2: tensor([[4.7804]], device='cuda:0')\n"
          ]
        },
        {
          "output_type": "stream",
          "name": "stderr",
          "text": [
            "\rquery: 6it [00:49,  8.28s/it]"
          ]
        },
        {
          "output_type": "stream",
          "name": "stdout",
          "text": [
            "l2: tensor([[4.2985]], device='cuda:0')\n"
          ]
        },
        {
          "output_type": "stream",
          "name": "stderr",
          "text": [
            "\rquery: 7it [00:57,  8.25s/it]"
          ]
        },
        {
          "output_type": "stream",
          "name": "stdout",
          "text": [
            "l2: tensor([[4.8717]], device='cuda:0')\n"
          ]
        },
        {
          "output_type": "stream",
          "name": "stderr",
          "text": [
            "\rquery: 8it [01:05,  8.24s/it]"
          ]
        },
        {
          "output_type": "stream",
          "name": "stdout",
          "text": [
            "l2: tensor([[4.4071]], device='cuda:0')\n"
          ]
        },
        {
          "output_type": "stream",
          "name": "stderr",
          "text": [
            "\rquery: 9it [01:14,  8.24s/it]"
          ]
        },
        {
          "output_type": "stream",
          "name": "stdout",
          "text": [
            "l2: tensor([[3.7005]], device='cuda:0')\n"
          ]
        },
        {
          "output_type": "stream",
          "name": "stderr",
          "text": [
            "\rquery: 10it [01:22,  8.23s/it]"
          ]
        },
        {
          "output_type": "stream",
          "name": "stdout",
          "text": [
            "l2: tensor([[4.4663]], device='cuda:0')\n"
          ]
        },
        {
          "output_type": "stream",
          "name": "stderr",
          "text": [
            "\rquery: 11it [01:30,  8.21s/it]"
          ]
        },
        {
          "output_type": "stream",
          "name": "stdout",
          "text": [
            "l2: tensor([[4.0541]], device='cuda:0')\n"
          ]
        },
        {
          "output_type": "stream",
          "name": "stderr",
          "text": [
            "\rquery: 12it [01:38,  8.22s/it]"
          ]
        },
        {
          "output_type": "stream",
          "name": "stdout",
          "text": [
            "l2: tensor([[4.4994]], device='cuda:0')\n"
          ]
        },
        {
          "output_type": "stream",
          "name": "stderr",
          "text": [
            "query: 13it [01:46,  8.23s/it]\n"
          ]
        },
        {
          "output_type": "stream",
          "name": "stdout",
          "text": [
            "l2: tensor([[4.2369]], device='cuda:0')\n",
            "3th slice max value : 4.8717 \n",
            "\n"
          ]
        },
        {
          "output_type": "stream",
          "name": "stderr",
          "text": [
            "100%|██████████| 200/200 [02:20<00:00,  1.42it/s]\n",
            "query: 1it [00:08,  8.18s/it]"
          ]
        },
        {
          "output_type": "stream",
          "name": "stdout",
          "text": [
            "l2: tensor([[4.1329]], device='cuda:0')\n"
          ]
        },
        {
          "output_type": "stream",
          "name": "stderr",
          "text": [
            "\rquery: 2it [00:16,  8.29s/it]"
          ]
        },
        {
          "output_type": "stream",
          "name": "stdout",
          "text": [
            "l2: tensor([[4.1170]], device='cuda:0')\n"
          ]
        },
        {
          "output_type": "stream",
          "name": "stderr",
          "text": [
            "\rquery: 3it [00:24,  8.24s/it]"
          ]
        },
        {
          "output_type": "stream",
          "name": "stdout",
          "text": [
            "l2: tensor([[4.4735]], device='cuda:0')\n"
          ]
        },
        {
          "output_type": "stream",
          "name": "stderr",
          "text": [
            "\rquery: 4it [00:32,  8.22s/it]"
          ]
        },
        {
          "output_type": "stream",
          "name": "stdout",
          "text": [
            "l2: tensor([[4.2069]], device='cuda:0')\n"
          ]
        },
        {
          "output_type": "stream",
          "name": "stderr",
          "text": [
            "\rquery: 5it [00:41,  8.29s/it]"
          ]
        },
        {
          "output_type": "stream",
          "name": "stdout",
          "text": [
            "l2: tensor([[4.2182]], device='cuda:0')\n"
          ]
        },
        {
          "output_type": "stream",
          "name": "stderr",
          "text": [
            "\rquery: 6it [00:49,  8.26s/it]"
          ]
        },
        {
          "output_type": "stream",
          "name": "stdout",
          "text": [
            "l2: tensor([[3.9861]], device='cuda:0')\n"
          ]
        },
        {
          "output_type": "stream",
          "name": "stderr",
          "text": [
            "\rquery: 7it [00:57,  8.24s/it]"
          ]
        },
        {
          "output_type": "stream",
          "name": "stdout",
          "text": [
            "l2: tensor([[4.0904]], device='cuda:0')\n"
          ]
        },
        {
          "output_type": "stream",
          "name": "stderr",
          "text": [
            "\rquery: 8it [01:05,  8.23s/it]"
          ]
        },
        {
          "output_type": "stream",
          "name": "stdout",
          "text": [
            "l2: tensor([[4.3560]], device='cuda:0')\n"
          ]
        },
        {
          "output_type": "stream",
          "name": "stderr",
          "text": [
            "\rquery: 9it [01:14,  8.22s/it]"
          ]
        },
        {
          "output_type": "stream",
          "name": "stdout",
          "text": [
            "l2: tensor([[3.7058]], device='cuda:0')\n"
          ]
        },
        {
          "output_type": "stream",
          "name": "stderr",
          "text": [
            "\rquery: 10it [01:22,  8.22s/it]"
          ]
        },
        {
          "output_type": "stream",
          "name": "stdout",
          "text": [
            "l2: tensor([[4.2802]], device='cuda:0')\n"
          ]
        },
        {
          "output_type": "stream",
          "name": "stderr",
          "text": [
            "\rquery: 11it [01:30,  8.21s/it]"
          ]
        },
        {
          "output_type": "stream",
          "name": "stdout",
          "text": [
            "l2: tensor([[4.0485]], device='cuda:0')\n"
          ]
        },
        {
          "output_type": "stream",
          "name": "stderr",
          "text": [
            "\rquery: 12it [01:38,  8.21s/it]"
          ]
        },
        {
          "output_type": "stream",
          "name": "stdout",
          "text": [
            "l2: tensor([[4.0574]], device='cuda:0')\n"
          ]
        },
        {
          "output_type": "stream",
          "name": "stderr",
          "text": [
            "query: 13it [01:46,  8.23s/it]\n"
          ]
        },
        {
          "output_type": "stream",
          "name": "stdout",
          "text": [
            "l2: tensor([[3.8688]], device='cuda:0')\n",
            "4th slice max value : 4.4735 \n",
            "\n"
          ]
        },
        {
          "output_type": "stream",
          "name": "stderr",
          "text": [
            "100%|██████████| 200/200 [02:18<00:00,  1.44it/s]\n",
            "query: 1it [00:08,  8.21s/it]"
          ]
        },
        {
          "output_type": "stream",
          "name": "stdout",
          "text": [
            "l2: tensor([[3.8398]], device='cuda:0')\n"
          ]
        },
        {
          "output_type": "stream",
          "name": "stderr",
          "text": [
            "\rquery: 2it [00:16,  8.18s/it]"
          ]
        },
        {
          "output_type": "stream",
          "name": "stdout",
          "text": [
            "l2: tensor([[4.2128]], device='cuda:0')\n"
          ]
        },
        {
          "output_type": "stream",
          "name": "stderr",
          "text": [
            "\rquery: 3it [00:24,  8.18s/it]"
          ]
        },
        {
          "output_type": "stream",
          "name": "stdout",
          "text": [
            "l2: tensor([[3.8116]], device='cuda:0')\n"
          ]
        },
        {
          "output_type": "stream",
          "name": "stderr",
          "text": [
            "\rquery: 4it [00:32,  8.22s/it]"
          ]
        },
        {
          "output_type": "stream",
          "name": "stdout",
          "text": [
            "l2: tensor([[4.2772]], device='cuda:0')\n"
          ]
        },
        {
          "output_type": "stream",
          "name": "stderr",
          "text": [
            "\rquery: 5it [00:41,  8.21s/it]"
          ]
        },
        {
          "output_type": "stream",
          "name": "stdout",
          "text": [
            "l2: tensor([[4.6765]], device='cuda:0')\n"
          ]
        },
        {
          "output_type": "stream",
          "name": "stderr",
          "text": [
            "\rquery: 6it [00:49,  8.21s/it]"
          ]
        },
        {
          "output_type": "stream",
          "name": "stdout",
          "text": [
            "l2: tensor([[4.5254]], device='cuda:0')\n"
          ]
        },
        {
          "output_type": "stream",
          "name": "stderr",
          "text": [
            "\rquery: 7it [00:57,  8.28s/it]"
          ]
        },
        {
          "output_type": "stream",
          "name": "stdout",
          "text": [
            "l2: tensor([[3.9025]], device='cuda:0')\n"
          ]
        },
        {
          "output_type": "stream",
          "name": "stderr",
          "text": [
            "\rquery: 8it [01:05,  8.26s/it]"
          ]
        },
        {
          "output_type": "stream",
          "name": "stdout",
          "text": [
            "l2: tensor([[4.8719]], device='cuda:0')\n"
          ]
        },
        {
          "output_type": "stream",
          "name": "stderr",
          "text": [
            "\rquery: 9it [01:14,  8.24s/it]"
          ]
        },
        {
          "output_type": "stream",
          "name": "stdout",
          "text": [
            "l2: tensor([[4.8159]], device='cuda:0')\n"
          ]
        },
        {
          "output_type": "stream",
          "name": "stderr",
          "text": [
            "\rquery: 10it [01:22,  8.28s/it]"
          ]
        },
        {
          "output_type": "stream",
          "name": "stdout",
          "text": [
            "l2: tensor([[3.6794]], device='cuda:0')\n"
          ]
        },
        {
          "output_type": "stream",
          "name": "stderr",
          "text": [
            "\rquery: 11it [01:30,  8.26s/it]"
          ]
        },
        {
          "output_type": "stream",
          "name": "stdout",
          "text": [
            "l2: tensor([[4.0921]], device='cuda:0')\n"
          ]
        },
        {
          "output_type": "stream",
          "name": "stderr",
          "text": [
            "\rquery: 12it [01:38,  8.24s/it]"
          ]
        },
        {
          "output_type": "stream",
          "name": "stdout",
          "text": [
            "l2: tensor([[4.2923]], device='cuda:0')\n"
          ]
        },
        {
          "output_type": "stream",
          "name": "stderr",
          "text": [
            "query: 13it [01:47,  8.23s/it]\n"
          ]
        },
        {
          "output_type": "stream",
          "name": "stdout",
          "text": [
            "l2: tensor([[4.4174]], device='cuda:0')\n",
            "5th slice max value : 4.8719 \n",
            "\n"
          ]
        },
        {
          "output_type": "stream",
          "name": "stderr",
          "text": [
            "100%|██████████| 200/200 [02:19<00:00,  1.44it/s]\n",
            "query: 1it [00:08,  8.18s/it]"
          ]
        },
        {
          "output_type": "stream",
          "name": "stdout",
          "text": [
            "l2: tensor([[4.2795]], device='cuda:0')\n"
          ]
        },
        {
          "output_type": "stream",
          "name": "stderr",
          "text": [
            "\rquery: 2it [00:16,  8.17s/it]"
          ]
        },
        {
          "output_type": "stream",
          "name": "stdout",
          "text": [
            "l2: tensor([[4.2600]], device='cuda:0')\n"
          ]
        },
        {
          "output_type": "stream",
          "name": "stderr",
          "text": [
            "\rquery: 3it [00:24,  8.17s/it]"
          ]
        },
        {
          "output_type": "stream",
          "name": "stdout",
          "text": [
            "l2: tensor([[4.9527]], device='cuda:0')\n"
          ]
        },
        {
          "output_type": "stream",
          "name": "stderr",
          "text": [
            "\rquery: 4it [00:32,  8.18s/it]"
          ]
        },
        {
          "output_type": "stream",
          "name": "stdout",
          "text": [
            "l2: tensor([[4.4119]], device='cuda:0')\n"
          ]
        },
        {
          "output_type": "stream",
          "name": "stderr",
          "text": [
            "\rquery: 5it [00:40,  8.18s/it]"
          ]
        },
        {
          "output_type": "stream",
          "name": "stdout",
          "text": [
            "l2: tensor([[4.1152]], device='cuda:0')\n"
          ]
        },
        {
          "output_type": "stream",
          "name": "stderr",
          "text": [
            "\rquery: 6it [00:49,  8.19s/it]"
          ]
        },
        {
          "output_type": "stream",
          "name": "stdout",
          "text": [
            "l2: tensor([[4.3364]], device='cuda:0')\n"
          ]
        },
        {
          "output_type": "stream",
          "name": "stderr",
          "text": [
            "\rquery: 7it [00:57,  8.20s/it]"
          ]
        },
        {
          "output_type": "stream",
          "name": "stdout",
          "text": [
            "l2: tensor([[4.0822]], device='cuda:0')\n"
          ]
        },
        {
          "output_type": "stream",
          "name": "stderr",
          "text": [
            "\rquery: 8it [01:05,  8.20s/it]"
          ]
        },
        {
          "output_type": "stream",
          "name": "stdout",
          "text": [
            "l2: tensor([[3.8792]], device='cuda:0')\n"
          ]
        },
        {
          "output_type": "stream",
          "name": "stderr",
          "text": [
            "\rquery: 9it [01:13,  8.27s/it]"
          ]
        },
        {
          "output_type": "stream",
          "name": "stdout",
          "text": [
            "l2: tensor([[4.1382]], device='cuda:0')\n"
          ]
        },
        {
          "output_type": "stream",
          "name": "stderr",
          "text": [
            "\rquery: 10it [01:22,  8.25s/it]"
          ]
        },
        {
          "output_type": "stream",
          "name": "stdout",
          "text": [
            "l2: tensor([[4.2542]], device='cuda:0')\n"
          ]
        },
        {
          "output_type": "stream",
          "name": "stderr",
          "text": [
            "\rquery: 11it [01:30,  8.23s/it]"
          ]
        },
        {
          "output_type": "stream",
          "name": "stdout",
          "text": [
            "l2: tensor([[4.4201]], device='cuda:0')\n"
          ]
        },
        {
          "output_type": "stream",
          "name": "stderr",
          "text": [
            "\rquery: 12it [01:38,  8.28s/it]"
          ]
        },
        {
          "output_type": "stream",
          "name": "stdout",
          "text": [
            "l2: tensor([[4.4331]], device='cuda:0')\n"
          ]
        },
        {
          "output_type": "stream",
          "name": "stderr",
          "text": [
            "query: 13it [01:46,  8.22s/it]\n"
          ]
        },
        {
          "output_type": "stream",
          "name": "stdout",
          "text": [
            "l2: tensor([[4.5183]], device='cuda:0')\n",
            "6th slice max value : 4.9527 \n",
            "\n"
          ]
        },
        {
          "output_type": "stream",
          "name": "stderr",
          "text": [
            "100%|██████████| 200/200 [02:18<00:00,  1.45it/s]\n",
            "query: 1it [00:08,  8.39s/it]"
          ]
        },
        {
          "output_type": "stream",
          "name": "stdout",
          "text": [
            "l2: tensor([[3.7700]], device='cuda:0')\n"
          ]
        },
        {
          "output_type": "stream",
          "name": "stderr",
          "text": [
            "\rquery: 2it [00:16,  8.25s/it]"
          ]
        },
        {
          "output_type": "stream",
          "name": "stdout",
          "text": [
            "l2: tensor([[5.3926]], device='cuda:0')\n"
          ]
        },
        {
          "output_type": "stream",
          "name": "stderr",
          "text": [
            "\rquery: 3it [00:24,  8.21s/it]"
          ]
        },
        {
          "output_type": "stream",
          "name": "stdout",
          "text": [
            "l2: tensor([[4.7597]], device='cuda:0')\n"
          ]
        },
        {
          "output_type": "stream",
          "name": "stderr",
          "text": [
            "\rquery: 4it [00:33,  8.30s/it]"
          ]
        },
        {
          "output_type": "stream",
          "name": "stdout",
          "text": [
            "l2: tensor([[3.6234]], device='cuda:0')\n"
          ]
        },
        {
          "output_type": "stream",
          "name": "stderr",
          "text": [
            "\rquery: 5it [00:41,  8.26s/it]"
          ]
        },
        {
          "output_type": "stream",
          "name": "stdout",
          "text": [
            "l2: tensor([[4.2689]], device='cuda:0')\n"
          ]
        },
        {
          "output_type": "stream",
          "name": "stderr",
          "text": [
            "\rquery: 6it [00:49,  8.24s/it]"
          ]
        },
        {
          "output_type": "stream",
          "name": "stdout",
          "text": [
            "l2: tensor([[4.4347]], device='cuda:0')\n"
          ]
        },
        {
          "output_type": "stream",
          "name": "stderr",
          "text": [
            "\rquery: 7it [00:57,  8.24s/it]"
          ]
        },
        {
          "output_type": "stream",
          "name": "stdout",
          "text": [
            "l2: tensor([[4.4576]], device='cuda:0')\n"
          ]
        },
        {
          "output_type": "stream",
          "name": "stderr",
          "text": [
            "\rquery: 8it [01:05,  8.23s/it]"
          ]
        },
        {
          "output_type": "stream",
          "name": "stdout",
          "text": [
            "l2: tensor([[4.5130]], device='cuda:0')\n"
          ]
        },
        {
          "output_type": "stream",
          "name": "stderr",
          "text": [
            "\rquery: 9it [01:14,  8.22s/it]"
          ]
        },
        {
          "output_type": "stream",
          "name": "stdout",
          "text": [
            "l2: tensor([[4.6036]], device='cuda:0')\n"
          ]
        },
        {
          "output_type": "stream",
          "name": "stderr",
          "text": [
            "\rquery: 10it [01:22,  8.22s/it]"
          ]
        },
        {
          "output_type": "stream",
          "name": "stdout",
          "text": [
            "l2: tensor([[4.3700]], device='cuda:0')\n"
          ]
        },
        {
          "output_type": "stream",
          "name": "stderr",
          "text": [
            "\rquery: 11it [01:30,  8.22s/it]"
          ]
        },
        {
          "output_type": "stream",
          "name": "stdout",
          "text": [
            "l2: tensor([[3.9461]], device='cuda:0')\n"
          ]
        },
        {
          "output_type": "stream",
          "name": "stderr",
          "text": [
            "\rquery: 12it [01:38,  8.21s/it]"
          ]
        },
        {
          "output_type": "stream",
          "name": "stdout",
          "text": [
            "l2: tensor([[4.2833]], device='cuda:0')\n"
          ]
        },
        {
          "output_type": "stream",
          "name": "stderr",
          "text": [
            "query: 13it [01:46,  8.23s/it]\n"
          ]
        },
        {
          "output_type": "stream",
          "name": "stdout",
          "text": [
            "l2: tensor([[3.7069]], device='cuda:0')\n",
            "7th slice max value : 5.3926 \n",
            "\n"
          ]
        },
        {
          "output_type": "stream",
          "name": "stderr",
          "text": [
            "100%|██████████| 200/200 [02:18<00:00,  1.44it/s]\n",
            "query: 1it [00:08,  8.17s/it]"
          ]
        },
        {
          "output_type": "stream",
          "name": "stdout",
          "text": [
            "l2: tensor([[4.0041]], device='cuda:0')\n"
          ]
        },
        {
          "output_type": "stream",
          "name": "stderr",
          "text": [
            "\rquery: 2it [00:16,  8.16s/it]"
          ]
        },
        {
          "output_type": "stream",
          "name": "stdout",
          "text": [
            "l2: tensor([[4.7828]], device='cuda:0')\n"
          ]
        },
        {
          "output_type": "stream",
          "name": "stderr",
          "text": [
            "\rquery: 3it [00:24,  8.20s/it]"
          ]
        },
        {
          "output_type": "stream",
          "name": "stdout",
          "text": [
            "l2: tensor([[6.6086]], device='cuda:0')\n"
          ]
        },
        {
          "output_type": "stream",
          "name": "stderr",
          "text": [
            "\rquery: 4it [00:32,  8.19s/it]"
          ]
        },
        {
          "output_type": "stream",
          "name": "stdout",
          "text": [
            "l2: tensor([[4.4041]], device='cuda:0')\n"
          ]
        },
        {
          "output_type": "stream",
          "name": "stderr",
          "text": [
            "\rquery: 5it [00:40,  8.18s/it]"
          ]
        },
        {
          "output_type": "stream",
          "name": "stdout",
          "text": [
            "l2: tensor([[3.7943]], device='cuda:0')\n"
          ]
        },
        {
          "output_type": "stream",
          "name": "stderr",
          "text": [
            "\rquery: 6it [00:49,  8.25s/it]"
          ]
        },
        {
          "output_type": "stream",
          "name": "stdout",
          "text": [
            "l2: tensor([[4.5121]], device='cuda:0')\n"
          ]
        },
        {
          "output_type": "stream",
          "name": "stderr",
          "text": [
            "\rquery: 7it [00:57,  8.23s/it]"
          ]
        },
        {
          "output_type": "stream",
          "name": "stdout",
          "text": [
            "l2: tensor([[4.5858]], device='cuda:0')\n"
          ]
        },
        {
          "output_type": "stream",
          "name": "stderr",
          "text": [
            "\rquery: 8it [01:05,  8.22s/it]"
          ]
        },
        {
          "output_type": "stream",
          "name": "stdout",
          "text": [
            "l2: tensor([[4.5184]], device='cuda:0')\n"
          ]
        },
        {
          "output_type": "stream",
          "name": "stderr",
          "text": [
            "\rquery: 9it [01:14,  8.29s/it]"
          ]
        },
        {
          "output_type": "stream",
          "name": "stdout",
          "text": [
            "l2: tensor([[3.9832]], device='cuda:0')\n"
          ]
        },
        {
          "output_type": "stream",
          "name": "stderr",
          "text": [
            "\rquery: 10it [01:22,  8.26s/it]"
          ]
        },
        {
          "output_type": "stream",
          "name": "stdout",
          "text": [
            "l2: tensor([[4.3824]], device='cuda:0')\n"
          ]
        },
        {
          "output_type": "stream",
          "name": "stderr",
          "text": [
            "\rquery: 11it [01:30,  8.24s/it]"
          ]
        },
        {
          "output_type": "stream",
          "name": "stdout",
          "text": [
            "l2: tensor([[4.3729]], device='cuda:0')\n"
          ]
        },
        {
          "output_type": "stream",
          "name": "stderr",
          "text": [
            "\rquery: 12it [01:38,  8.23s/it]"
          ]
        },
        {
          "output_type": "stream",
          "name": "stdout",
          "text": [
            "l2: tensor([[4.1696]], device='cuda:0')\n"
          ]
        },
        {
          "output_type": "stream",
          "name": "stderr",
          "text": [
            "query: 13it [01:46,  8.22s/it]\n"
          ]
        },
        {
          "output_type": "stream",
          "name": "stdout",
          "text": [
            "l2: tensor([[4.0442]], device='cuda:0')\n",
            "8th slice max value : 6.6086 \n",
            "\n"
          ]
        },
        {
          "output_type": "stream",
          "name": "stderr",
          "text": [
            "100%|██████████| 200/200 [02:18<00:00,  1.44it/s]\n",
            "query: 1it [00:08,  8.29s/it]"
          ]
        },
        {
          "output_type": "stream",
          "name": "stdout",
          "text": [
            "l2: tensor([[3.9472]], device='cuda:0')\n"
          ]
        },
        {
          "output_type": "stream",
          "name": "stderr",
          "text": [
            "\rquery: 2it [00:16,  8.22s/it]"
          ]
        },
        {
          "output_type": "stream",
          "name": "stdout",
          "text": [
            "l2: tensor([[4.2858]], device='cuda:0')\n"
          ]
        },
        {
          "output_type": "stream",
          "name": "stderr",
          "text": [
            "\rquery: 3it [00:24,  8.19s/it]"
          ]
        },
        {
          "output_type": "stream",
          "name": "stdout",
          "text": [
            "l2: tensor([[4.0106]], device='cuda:0')\n"
          ]
        },
        {
          "output_type": "stream",
          "name": "stderr",
          "text": [
            "\rquery: 4it [00:32,  8.19s/it]"
          ]
        },
        {
          "output_type": "stream",
          "name": "stdout",
          "text": [
            "l2: tensor([[3.8859]], device='cuda:0')\n"
          ]
        },
        {
          "output_type": "stream",
          "name": "stderr",
          "text": [
            "\rquery: 5it [00:40,  8.19s/it]"
          ]
        },
        {
          "output_type": "stream",
          "name": "stdout",
          "text": [
            "l2: tensor([[4.2403]], device='cuda:0')\n"
          ]
        },
        {
          "output_type": "stream",
          "name": "stderr",
          "text": [
            "\rquery: 6it [00:49,  8.19s/it]"
          ]
        },
        {
          "output_type": "stream",
          "name": "stdout",
          "text": [
            "l2: tensor([[4.3013]], device='cuda:0')\n"
          ]
        },
        {
          "output_type": "stream",
          "name": "stderr",
          "text": [
            "\rquery: 7it [00:57,  8.19s/it]"
          ]
        },
        {
          "output_type": "stream",
          "name": "stdout",
          "text": [
            "l2: tensor([[4.2484]], device='cuda:0')\n"
          ]
        },
        {
          "output_type": "stream",
          "name": "stderr",
          "text": [
            "\rquery: 8it [01:05,  8.19s/it]"
          ]
        },
        {
          "output_type": "stream",
          "name": "stdout",
          "text": [
            "l2: tensor([[4.4178]], device='cuda:0')\n"
          ]
        },
        {
          "output_type": "stream",
          "name": "stderr",
          "text": [
            "\rquery: 9it [01:13,  8.19s/it]"
          ]
        },
        {
          "output_type": "stream",
          "name": "stdout",
          "text": [
            "l2: tensor([[4.0252]], device='cuda:0')\n"
          ]
        },
        {
          "output_type": "stream",
          "name": "stderr",
          "text": [
            "\rquery: 10it [01:21,  8.20s/it]"
          ]
        },
        {
          "output_type": "stream",
          "name": "stdout",
          "text": [
            "l2: tensor([[4.8850]], device='cuda:0')\n"
          ]
        },
        {
          "output_type": "stream",
          "name": "stderr",
          "text": [
            "\rquery: 11it [01:30,  8.26s/it]"
          ]
        },
        {
          "output_type": "stream",
          "name": "stdout",
          "text": [
            "l2: tensor([[4.1932]], device='cuda:0')\n"
          ]
        },
        {
          "output_type": "stream",
          "name": "stderr",
          "text": [
            "\rquery: 12it [01:38,  8.24s/it]"
          ]
        },
        {
          "output_type": "stream",
          "name": "stdout",
          "text": [
            "l2: tensor([[4.8898]], device='cuda:0')\n"
          ]
        },
        {
          "output_type": "stream",
          "name": "stderr",
          "text": [
            "query: 13it [01:46,  8.21s/it]\n"
          ]
        },
        {
          "output_type": "stream",
          "name": "stdout",
          "text": [
            "l2: tensor([[4.4628]], device='cuda:0')\n",
            "9th slice max value : 4.8898 \n",
            "\n"
          ]
        },
        {
          "output_type": "stream",
          "name": "stderr",
          "text": [
            "100%|██████████| 200/200 [02:18<00:00,  1.45it/s]\n",
            "query: 1it [00:08,  8.17s/it]"
          ]
        },
        {
          "output_type": "stream",
          "name": "stdout",
          "text": [
            "l2: tensor([[4.1689]], device='cuda:0')\n"
          ]
        },
        {
          "output_type": "stream",
          "name": "stderr",
          "text": [
            "\rquery: 2it [00:16,  8.16s/it]"
          ]
        },
        {
          "output_type": "stream",
          "name": "stdout",
          "text": [
            "l2: tensor([[4.2611]], device='cuda:0')\n"
          ]
        },
        {
          "output_type": "stream",
          "name": "stderr",
          "text": [
            "\rquery: 3it [00:24,  8.26s/it]"
          ]
        },
        {
          "output_type": "stream",
          "name": "stdout",
          "text": [
            "l2: tensor([[4.2272]], device='cuda:0')\n"
          ]
        },
        {
          "output_type": "stream",
          "name": "stderr",
          "text": [
            "\rquery: 4it [00:32,  8.24s/it]"
          ]
        },
        {
          "output_type": "stream",
          "name": "stdout",
          "text": [
            "l2: tensor([[4.0471]], device='cuda:0')\n"
          ]
        },
        {
          "output_type": "stream",
          "name": "stderr",
          "text": [
            "\rquery: 5it [00:41,  8.22s/it]"
          ]
        },
        {
          "output_type": "stream",
          "name": "stdout",
          "text": [
            "l2: tensor([[4.1892]], device='cuda:0')\n"
          ]
        },
        {
          "output_type": "stream",
          "name": "stderr",
          "text": [
            "\rquery: 6it [00:49,  8.29s/it]"
          ]
        },
        {
          "output_type": "stream",
          "name": "stdout",
          "text": [
            "l2: tensor([[4.2853]], device='cuda:0')\n"
          ]
        },
        {
          "output_type": "stream",
          "name": "stderr",
          "text": [
            "\rquery: 7it [00:57,  8.26s/it]"
          ]
        },
        {
          "output_type": "stream",
          "name": "stdout",
          "text": [
            "l2: tensor([[4.2888]], device='cuda:0')\n"
          ]
        },
        {
          "output_type": "stream",
          "name": "stderr",
          "text": [
            "\rquery: 8it [01:05,  8.25s/it]"
          ]
        },
        {
          "output_type": "stream",
          "name": "stdout",
          "text": [
            "l2: tensor([[3.7520]], device='cuda:0')\n"
          ]
        },
        {
          "output_type": "stream",
          "name": "stderr",
          "text": [
            "\rquery: 9it [01:14,  8.24s/it]"
          ]
        },
        {
          "output_type": "stream",
          "name": "stdout",
          "text": [
            "l2: tensor([[4.2684]], device='cuda:0')\n"
          ]
        },
        {
          "output_type": "stream",
          "name": "stderr",
          "text": [
            "\rquery: 10it [01:22,  8.22s/it]"
          ]
        },
        {
          "output_type": "stream",
          "name": "stdout",
          "text": [
            "l2: tensor([[4.3081]], device='cuda:0')\n"
          ]
        },
        {
          "output_type": "stream",
          "name": "stderr",
          "text": [
            "\rquery: 11it [01:30,  8.22s/it]"
          ]
        },
        {
          "output_type": "stream",
          "name": "stdout",
          "text": [
            "l2: tensor([[4.5953]], device='cuda:0')\n"
          ]
        },
        {
          "output_type": "stream",
          "name": "stderr",
          "text": [
            "\rquery: 12it [01:38,  8.21s/it]"
          ]
        },
        {
          "output_type": "stream",
          "name": "stdout",
          "text": [
            "l2: tensor([[4.4403]], device='cuda:0')\n"
          ]
        },
        {
          "output_type": "stream",
          "name": "stderr",
          "text": [
            "query: 13it [01:46,  8.23s/it]\n"
          ]
        },
        {
          "output_type": "stream",
          "name": "stdout",
          "text": [
            "l2: tensor([[4.4066]], device='cuda:0')\n",
            "10th slice max value : 4.5953 \n",
            "\n"
          ]
        },
        {
          "output_type": "stream",
          "name": "stderr",
          "text": [
            "100%|██████████| 200/200 [02:18<00:00,  1.45it/s]\n",
            "query: 1it [00:08,  8.17s/it]"
          ]
        },
        {
          "output_type": "stream",
          "name": "stdout",
          "text": [
            "l2: tensor([[4.5368]], device='cuda:0')\n"
          ]
        },
        {
          "output_type": "stream",
          "name": "stderr",
          "text": [
            "\rquery: 2it [00:16,  8.17s/it]"
          ]
        },
        {
          "output_type": "stream",
          "name": "stdout",
          "text": [
            "l2: tensor([[4.5318]], device='cuda:0')\n"
          ]
        },
        {
          "output_type": "stream",
          "name": "stderr",
          "text": [
            "\rquery: 3it [00:24,  8.16s/it]"
          ]
        },
        {
          "output_type": "stream",
          "name": "stdout",
          "text": [
            "l2: tensor([[4.8810]], device='cuda:0')\n"
          ]
        },
        {
          "output_type": "stream",
          "name": "stderr",
          "text": [
            "\rquery: 4it [00:32,  8.16s/it]"
          ]
        },
        {
          "output_type": "stream",
          "name": "stdout",
          "text": [
            "l2: tensor([[4.7923]], device='cuda:0')\n"
          ]
        },
        {
          "output_type": "stream",
          "name": "stderr",
          "text": [
            "\rquery: 5it [00:40,  8.17s/it]"
          ]
        },
        {
          "output_type": "stream",
          "name": "stdout",
          "text": [
            "l2: tensor([[6.8897]], device='cuda:0')\n"
          ]
        },
        {
          "output_type": "stream",
          "name": "stderr",
          "text": [
            "\rquery: 6it [00:49,  8.18s/it]"
          ]
        },
        {
          "output_type": "stream",
          "name": "stdout",
          "text": [
            "l2: tensor([[5.1297]], device='cuda:0')\n"
          ]
        },
        {
          "output_type": "stream",
          "name": "stderr",
          "text": [
            "\rquery: 7it [00:57,  8.19s/it]"
          ]
        },
        {
          "output_type": "stream",
          "name": "stdout",
          "text": [
            "l2: tensor([[4.0705]], device='cuda:0')\n"
          ]
        },
        {
          "output_type": "stream",
          "name": "stderr",
          "text": [
            "\rquery: 8it [01:05,  8.22s/it]"
          ]
        },
        {
          "output_type": "stream",
          "name": "stdout",
          "text": [
            "l2: tensor([[4.4501]], device='cuda:0')\n"
          ]
        },
        {
          "output_type": "stream",
          "name": "stderr",
          "text": [
            "\rquery: 9it [01:13,  8.22s/it]"
          ]
        },
        {
          "output_type": "stream",
          "name": "stdout",
          "text": [
            "l2: tensor([[4.9111]], device='cuda:0')\n"
          ]
        },
        {
          "output_type": "stream",
          "name": "stderr",
          "text": [
            "\rquery: 10it [01:21,  8.21s/it]"
          ]
        },
        {
          "output_type": "stream",
          "name": "stdout",
          "text": [
            "l2: tensor([[3.9104]], device='cuda:0')\n"
          ]
        },
        {
          "output_type": "stream",
          "name": "stderr",
          "text": [
            "\rquery: 11it [01:30,  8.27s/it]"
          ]
        },
        {
          "output_type": "stream",
          "name": "stdout",
          "text": [
            "l2: tensor([[4.3815]], device='cuda:0')\n"
          ]
        },
        {
          "output_type": "stream",
          "name": "stderr",
          "text": [
            "\rquery: 12it [01:38,  8.25s/it]"
          ]
        },
        {
          "output_type": "stream",
          "name": "stdout",
          "text": [
            "l2: tensor([[3.7596]], device='cuda:0')\n"
          ]
        },
        {
          "output_type": "stream",
          "name": "stderr",
          "text": [
            "query: 13it [01:46,  8.21s/it]\n"
          ]
        },
        {
          "output_type": "stream",
          "name": "stdout",
          "text": [
            "l2: tensor([[4.5025]], device='cuda:0')\n",
            "11th slice max value : 6.8897 \n",
            "\n"
          ]
        },
        {
          "output_type": "stream",
          "name": "stderr",
          "text": [
            "100%|██████████| 200/200 [02:18<00:00,  1.45it/s]\n",
            "query: 1it [00:08,  8.19s/it]"
          ]
        },
        {
          "output_type": "stream",
          "name": "stdout",
          "text": [
            "l2: tensor([[4.4966]], device='cuda:0')\n"
          ]
        },
        {
          "output_type": "stream",
          "name": "stderr",
          "text": [
            "\rquery: 2it [00:16,  8.17s/it]"
          ]
        },
        {
          "output_type": "stream",
          "name": "stdout",
          "text": [
            "l2: tensor([[4.2123]], device='cuda:0')\n"
          ]
        },
        {
          "output_type": "stream",
          "name": "stderr",
          "text": [
            "\rquery: 3it [00:24,  8.26s/it]"
          ]
        },
        {
          "output_type": "stream",
          "name": "stdout",
          "text": [
            "l2: tensor([[4.2364]], device='cuda:0')\n"
          ]
        },
        {
          "output_type": "stream",
          "name": "stderr",
          "text": [
            "\rquery: 4it [00:32,  8.23s/it]"
          ]
        },
        {
          "output_type": "stream",
          "name": "stdout",
          "text": [
            "l2: tensor([[4.2056]], device='cuda:0')\n"
          ]
        },
        {
          "output_type": "stream",
          "name": "stderr",
          "text": [
            "\rquery: 5it [00:41,  8.21s/it]"
          ]
        },
        {
          "output_type": "stream",
          "name": "stdout",
          "text": [
            "l2: tensor([[3.8726]], device='cuda:0')\n"
          ]
        },
        {
          "output_type": "stream",
          "name": "stderr",
          "text": [
            "\rquery: 6it [00:49,  8.24s/it]"
          ]
        },
        {
          "output_type": "stream",
          "name": "stdout",
          "text": [
            "l2: tensor([[4.2615]], device='cuda:0')\n"
          ]
        },
        {
          "output_type": "stream",
          "name": "stderr",
          "text": [
            "\rquery: 7it [00:57,  8.22s/it]"
          ]
        },
        {
          "output_type": "stream",
          "name": "stdout",
          "text": [
            "l2: tensor([[4.3126]], device='cuda:0')\n"
          ]
        },
        {
          "output_type": "stream",
          "name": "stderr",
          "text": [
            "\rquery: 8it [01:05,  8.22s/it]"
          ]
        },
        {
          "output_type": "stream",
          "name": "stdout",
          "text": [
            "l2: tensor([[3.8796]], device='cuda:0')\n"
          ]
        },
        {
          "output_type": "stream",
          "name": "stderr",
          "text": [
            "\rquery: 9it [01:13,  8.21s/it]"
          ]
        },
        {
          "output_type": "stream",
          "name": "stdout",
          "text": [
            "l2: tensor([[4.2422]], device='cuda:0')\n"
          ]
        },
        {
          "output_type": "stream",
          "name": "stderr",
          "text": [
            "\rquery: 10it [01:22,  8.21s/it]"
          ]
        },
        {
          "output_type": "stream",
          "name": "stdout",
          "text": [
            "l2: tensor([[4.2809]], device='cuda:0')\n"
          ]
        },
        {
          "output_type": "stream",
          "name": "stderr",
          "text": [
            "\rquery: 11it [01:30,  8.20s/it]"
          ]
        },
        {
          "output_type": "stream",
          "name": "stdout",
          "text": [
            "l2: tensor([[3.6575]], device='cuda:0')\n"
          ]
        },
        {
          "output_type": "stream",
          "name": "stderr",
          "text": [
            "\rquery: 12it [01:38,  8.20s/it]"
          ]
        },
        {
          "output_type": "stream",
          "name": "stdout",
          "text": [
            "l2: tensor([[4.2853]], device='cuda:0')\n"
          ]
        },
        {
          "output_type": "stream",
          "name": "stderr",
          "text": [
            "query: 13it [01:46,  8.21s/it]\n"
          ]
        },
        {
          "output_type": "stream",
          "name": "stdout",
          "text": [
            "l2: tensor([[4.4739]], device='cuda:0')\n",
            "12th slice max value : 4.4966 \n",
            "\n"
          ]
        },
        {
          "output_type": "stream",
          "name": "stderr",
          "text": [
            "100%|██████████| 200/200 [02:19<00:00,  1.44it/s]\n",
            "query: 1it [00:08,  8.17s/it]"
          ]
        },
        {
          "output_type": "stream",
          "name": "stdout",
          "text": [
            "l2: tensor([[4.3441]], device='cuda:0')\n"
          ]
        },
        {
          "output_type": "stream",
          "name": "stderr",
          "text": [
            "\rquery: 2it [00:16,  8.18s/it]"
          ]
        },
        {
          "output_type": "stream",
          "name": "stdout",
          "text": [
            "l2: tensor([[6.2458]], device='cuda:0')\n"
          ]
        },
        {
          "output_type": "stream",
          "name": "stderr",
          "text": [
            "\rquery: 3it [00:24,  8.18s/it]"
          ]
        },
        {
          "output_type": "stream",
          "name": "stdout",
          "text": [
            "l2: tensor([[4.0465]], device='cuda:0')\n"
          ]
        },
        {
          "output_type": "stream",
          "name": "stderr",
          "text": [
            "\rquery: 4it [00:32,  8.19s/it]"
          ]
        },
        {
          "output_type": "stream",
          "name": "stdout",
          "text": [
            "l2: tensor([[4.3057]], device='cuda:0')\n"
          ]
        },
        {
          "output_type": "stream",
          "name": "stderr",
          "text": [
            "\rquery: 5it [00:41,  8.28s/it]"
          ]
        },
        {
          "output_type": "stream",
          "name": "stdout",
          "text": [
            "l2: tensor([[4.0022]], device='cuda:0')\n"
          ]
        },
        {
          "output_type": "stream",
          "name": "stderr",
          "text": [
            "\rquery: 6it [00:49,  8.25s/it]"
          ]
        },
        {
          "output_type": "stream",
          "name": "stdout",
          "text": [
            "l2: tensor([[3.6947]], device='cuda:0')\n"
          ]
        },
        {
          "output_type": "stream",
          "name": "stderr",
          "text": [
            "\rquery: 7it [00:57,  8.23s/it]"
          ]
        },
        {
          "output_type": "stream",
          "name": "stdout",
          "text": [
            "l2: tensor([[4.3276]], device='cuda:0')\n"
          ]
        },
        {
          "output_type": "stream",
          "name": "stderr",
          "text": [
            "\rquery: 8it [01:06,  8.30s/it]"
          ]
        },
        {
          "output_type": "stream",
          "name": "stdout",
          "text": [
            "l2: tensor([[4.2221]], device='cuda:0')\n"
          ]
        },
        {
          "output_type": "stream",
          "name": "stderr",
          "text": [
            "\rquery: 9it [01:14,  8.27s/it]"
          ]
        },
        {
          "output_type": "stream",
          "name": "stdout",
          "text": [
            "l2: tensor([[4.0520]], device='cuda:0')\n"
          ]
        },
        {
          "output_type": "stream",
          "name": "stderr",
          "text": [
            "\rquery: 10it [01:22,  8.25s/it]"
          ]
        },
        {
          "output_type": "stream",
          "name": "stdout",
          "text": [
            "l2: tensor([[3.8334]], device='cuda:0')\n"
          ]
        },
        {
          "output_type": "stream",
          "name": "stderr",
          "text": [
            "\rquery: 11it [01:30,  8.23s/it]"
          ]
        },
        {
          "output_type": "stream",
          "name": "stdout",
          "text": [
            "l2: tensor([[3.9752]], device='cuda:0')\n"
          ]
        },
        {
          "output_type": "stream",
          "name": "stderr",
          "text": [
            "\rquery: 12it [01:38,  8.23s/it]"
          ]
        },
        {
          "output_type": "stream",
          "name": "stdout",
          "text": [
            "l2: tensor([[4.4320]], device='cuda:0')\n"
          ]
        },
        {
          "output_type": "stream",
          "name": "stderr",
          "text": [
            "query: 13it [01:47,  8.23s/it]\n"
          ]
        },
        {
          "output_type": "stream",
          "name": "stdout",
          "text": [
            "l2: tensor([[3.9062]], device='cuda:0')\n",
            "13th slice max value : 6.2458 \n",
            "\n"
          ]
        },
        {
          "output_type": "stream",
          "name": "stderr",
          "text": [
            "100%|██████████| 200/200 [02:18<00:00,  1.45it/s]\n",
            "query: 1it [00:08,  8.19s/it]"
          ]
        },
        {
          "output_type": "stream",
          "name": "stdout",
          "text": [
            "l2: tensor([[4.1389]], device='cuda:0')\n"
          ]
        },
        {
          "output_type": "stream",
          "name": "stderr",
          "text": [
            "\rquery: 2it [00:16,  8.17s/it]"
          ]
        },
        {
          "output_type": "stream",
          "name": "stdout",
          "text": [
            "l2: tensor([[4.0004]], device='cuda:0')\n"
          ]
        },
        {
          "output_type": "stream",
          "name": "stderr",
          "text": [
            "\rquery: 3it [00:24,  8.17s/it]"
          ]
        },
        {
          "output_type": "stream",
          "name": "stdout",
          "text": [
            "l2: tensor([[4.6590]], device='cuda:0')\n"
          ]
        },
        {
          "output_type": "stream",
          "name": "stderr",
          "text": [
            "\rquery: 4it [00:32,  8.18s/it]"
          ]
        },
        {
          "output_type": "stream",
          "name": "stdout",
          "text": [
            "l2: tensor([[4.4225]], device='cuda:0')\n"
          ]
        },
        {
          "output_type": "stream",
          "name": "stderr",
          "text": [
            "\rquery: 5it [00:40,  8.19s/it]"
          ]
        },
        {
          "output_type": "stream",
          "name": "stdout",
          "text": [
            "l2: tensor([[5.1519]], device='cuda:0')\n"
          ]
        },
        {
          "output_type": "stream",
          "name": "stderr",
          "text": [
            "\rquery: 6it [00:49,  8.19s/it]"
          ]
        },
        {
          "output_type": "stream",
          "name": "stdout",
          "text": [
            "l2: tensor([[4.1778]], device='cuda:0')\n"
          ]
        },
        {
          "output_type": "stream",
          "name": "stderr",
          "text": [
            "\rquery: 7it [00:57,  8.20s/it]"
          ]
        },
        {
          "output_type": "stream",
          "name": "stdout",
          "text": [
            "l2: tensor([[4.0925]], device='cuda:0')\n"
          ]
        },
        {
          "output_type": "stream",
          "name": "stderr",
          "text": [
            "\rquery: 8it [01:05,  8.20s/it]"
          ]
        },
        {
          "output_type": "stream",
          "name": "stdout",
          "text": [
            "l2: tensor([[4.6252]], device='cuda:0')\n"
          ]
        },
        {
          "output_type": "stream",
          "name": "stderr",
          "text": [
            "\rquery: 9it [01:13,  8.20s/it]"
          ]
        },
        {
          "output_type": "stream",
          "name": "stdout",
          "text": [
            "l2: tensor([[4.0268]], device='cuda:0')\n"
          ]
        },
        {
          "output_type": "stream",
          "name": "stderr",
          "text": [
            "\rquery: 10it [01:22,  8.25s/it]"
          ]
        },
        {
          "output_type": "stream",
          "name": "stdout",
          "text": [
            "l2: tensor([[4.1577]], device='cuda:0')\n"
          ]
        },
        {
          "output_type": "stream",
          "name": "stderr",
          "text": [
            "\rquery: 11it [01:30,  8.23s/it]"
          ]
        },
        {
          "output_type": "stream",
          "name": "stdout",
          "text": [
            "l2: tensor([[4.0583]], device='cuda:0')\n"
          ]
        },
        {
          "output_type": "stream",
          "name": "stderr",
          "text": [
            "\rquery: 12it [01:38,  8.22s/it]"
          ]
        },
        {
          "output_type": "stream",
          "name": "stdout",
          "text": [
            "l2: tensor([[4.1207]], device='cuda:0')\n"
          ]
        },
        {
          "output_type": "stream",
          "name": "stderr",
          "text": [
            "query: 13it [01:46,  8.22s/it]\n"
          ]
        },
        {
          "output_type": "stream",
          "name": "stdout",
          "text": [
            "l2: tensor([[4.3856]], device='cuda:0')\n",
            "14th slice max value : 5.1519 \n",
            "\n"
          ]
        },
        {
          "output_type": "stream",
          "name": "stderr",
          "text": [
            "100%|██████████| 200/200 [02:18<00:00,  1.44it/s]\n",
            "query: 1it [00:08,  8.21s/it]"
          ]
        },
        {
          "output_type": "stream",
          "name": "stdout",
          "text": [
            "l2: tensor([[4.2543]], device='cuda:0')\n"
          ]
        },
        {
          "output_type": "stream",
          "name": "stderr",
          "text": [
            "\rquery: 2it [00:16,  8.31s/it]"
          ]
        },
        {
          "output_type": "stream",
          "name": "stdout",
          "text": [
            "l2: tensor([[4.9847]], device='cuda:0')\n"
          ]
        },
        {
          "output_type": "stream",
          "name": "stderr",
          "text": [
            "\rquery: 3it [00:24,  8.26s/it]"
          ]
        },
        {
          "output_type": "stream",
          "name": "stdout",
          "text": [
            "l2: tensor([[4.0674]], device='cuda:0')\n"
          ]
        },
        {
          "output_type": "stream",
          "name": "stderr",
          "text": [
            "\rquery: 4it [00:32,  8.23s/it]"
          ]
        },
        {
          "output_type": "stream",
          "name": "stdout",
          "text": [
            "l2: tensor([[4.4658]], device='cuda:0')\n"
          ]
        },
        {
          "output_type": "stream",
          "name": "stderr",
          "text": [
            "\rquery: 5it [00:41,  8.28s/it]"
          ]
        },
        {
          "output_type": "stream",
          "name": "stdout",
          "text": [
            "l2: tensor([[4.1054]], device='cuda:0')\n"
          ]
        },
        {
          "output_type": "stream",
          "name": "stderr",
          "text": [
            "\rquery: 6it [00:49,  8.25s/it]"
          ]
        },
        {
          "output_type": "stream",
          "name": "stdout",
          "text": [
            "l2: tensor([[5.6317]], device='cuda:0')\n"
          ]
        },
        {
          "output_type": "stream",
          "name": "stderr",
          "text": [
            "\rquery: 7it [00:57,  8.24s/it]"
          ]
        },
        {
          "output_type": "stream",
          "name": "stdout",
          "text": [
            "l2: tensor([[4.1007]], device='cuda:0')\n"
          ]
        },
        {
          "output_type": "stream",
          "name": "stderr",
          "text": [
            "\rquery: 8it [01:05,  8.23s/it]"
          ]
        },
        {
          "output_type": "stream",
          "name": "stdout",
          "text": [
            "l2: tensor([[4.2399]], device='cuda:0')\n"
          ]
        },
        {
          "output_type": "stream",
          "name": "stderr",
          "text": [
            "\rquery: 9it [01:14,  8.22s/it]"
          ]
        },
        {
          "output_type": "stream",
          "name": "stdout",
          "text": [
            "l2: tensor([[4.2364]], device='cuda:0')\n"
          ]
        },
        {
          "output_type": "stream",
          "name": "stderr",
          "text": [
            "\rquery: 10it [01:22,  8.21s/it]"
          ]
        },
        {
          "output_type": "stream",
          "name": "stdout",
          "text": [
            "l2: tensor([[4.1446]], device='cuda:0')\n"
          ]
        },
        {
          "output_type": "stream",
          "name": "stderr",
          "text": [
            "\rquery: 11it [01:30,  8.21s/it]"
          ]
        },
        {
          "output_type": "stream",
          "name": "stdout",
          "text": [
            "l2: tensor([[4.2130]], device='cuda:0')\n"
          ]
        },
        {
          "output_type": "stream",
          "name": "stderr",
          "text": [
            "\rquery: 12it [01:38,  8.20s/it]"
          ]
        },
        {
          "output_type": "stream",
          "name": "stdout",
          "text": [
            "l2: tensor([[3.9808]], device='cuda:0')\n"
          ]
        },
        {
          "output_type": "stream",
          "name": "stderr",
          "text": [
            "query: 13it [01:46,  8.22s/it]\n"
          ]
        },
        {
          "output_type": "stream",
          "name": "stdout",
          "text": [
            "l2: tensor([[4.0213]], device='cuda:0')\n",
            "15th slice max value : 5.6317 \n",
            "\n"
          ]
        },
        {
          "output_type": "stream",
          "name": "stderr",
          "text": [
            "100%|██████████| 200/200 [02:17<00:00,  1.45it/s]\n",
            "query: 1it [00:08,  8.18s/it]"
          ]
        },
        {
          "output_type": "stream",
          "name": "stdout",
          "text": [
            "l2: tensor([[4.1284]], device='cuda:0')\n"
          ]
        },
        {
          "output_type": "stream",
          "name": "stderr",
          "text": [
            "\rquery: 2it [00:16,  8.18s/it]"
          ]
        },
        {
          "output_type": "stream",
          "name": "stdout",
          "text": [
            "l2: tensor([[4.1318]], device='cuda:0')\n"
          ]
        },
        {
          "output_type": "stream",
          "name": "stderr",
          "text": [
            "\rquery: 3it [00:24,  8.18s/it]"
          ]
        },
        {
          "output_type": "stream",
          "name": "stdout",
          "text": [
            "l2: tensor([[3.9975]], device='cuda:0')\n"
          ]
        },
        {
          "output_type": "stream",
          "name": "stderr",
          "text": [
            "\rquery: 4it [00:32,  8.18s/it]"
          ]
        },
        {
          "output_type": "stream",
          "name": "stdout",
          "text": [
            "l2: tensor([[4.6501]], device='cuda:0')\n"
          ]
        },
        {
          "output_type": "stream",
          "name": "stderr",
          "text": [
            "\rquery: 5it [00:40,  8.19s/it]"
          ]
        },
        {
          "output_type": "stream",
          "name": "stdout",
          "text": [
            "l2: tensor([[4.3513]], device='cuda:0')\n"
          ]
        },
        {
          "output_type": "stream",
          "name": "stderr",
          "text": [
            "\rquery: 6it [00:49,  8.19s/it]"
          ]
        },
        {
          "output_type": "stream",
          "name": "stdout",
          "text": [
            "l2: tensor([[4.1222]], device='cuda:0')\n"
          ]
        },
        {
          "output_type": "stream",
          "name": "stderr",
          "text": [
            "\rquery: 7it [00:57,  8.20s/it]"
          ]
        },
        {
          "output_type": "stream",
          "name": "stdout",
          "text": [
            "l2: tensor([[4.3457]], device='cuda:0')\n"
          ]
        },
        {
          "output_type": "stream",
          "name": "stderr",
          "text": [
            "\rquery: 8it [01:05,  8.20s/it]"
          ]
        },
        {
          "output_type": "stream",
          "name": "stdout",
          "text": [
            "l2: tensor([[4.1172]], device='cuda:0')\n"
          ]
        },
        {
          "output_type": "stream",
          "name": "stderr",
          "text": [
            "\rquery: 9it [01:13,  8.21s/it]"
          ]
        },
        {
          "output_type": "stream",
          "name": "stdout",
          "text": [
            "l2: tensor([[4.4425]], device='cuda:0')\n"
          ]
        },
        {
          "output_type": "stream",
          "name": "stderr",
          "text": [
            "\rquery: 10it [01:22,  8.27s/it]"
          ]
        },
        {
          "output_type": "stream",
          "name": "stdout",
          "text": [
            "l2: tensor([[4.5016]], device='cuda:0')\n"
          ]
        },
        {
          "output_type": "stream",
          "name": "stderr",
          "text": [
            "\rquery: 11it [01:30,  8.26s/it]"
          ]
        },
        {
          "output_type": "stream",
          "name": "stdout",
          "text": [
            "l2: tensor([[3.9477]], device='cuda:0')\n"
          ]
        },
        {
          "output_type": "stream",
          "name": "stderr",
          "text": [
            "\rquery: 12it [01:38,  8.24s/it]"
          ]
        },
        {
          "output_type": "stream",
          "name": "stdout",
          "text": [
            "l2: tensor([[4.4261]], device='cuda:0')\n"
          ]
        },
        {
          "output_type": "stream",
          "name": "stderr",
          "text": [
            "query: 13it [01:47,  8.24s/it]"
          ]
        },
        {
          "output_type": "stream",
          "name": "stdout",
          "text": [
            "l2: tensor([[3.7177]], device='cuda:0')\n",
            "16th slice max value : 4.6501 \n",
            "\n"
          ]
        },
        {
          "output_type": "stream",
          "name": "stderr",
          "text": [
            "\n"
          ]
        }
      ]
    },
    {
      "cell_type": "code",
      "source": [
        "Threshold = sum / m  # max_value들의 평균\n",
        "print(f\"Threshold of PatchCore : {Threshold}\")"
      ],
      "metadata": {
        "id": "XsNkGGdyHgrs",
        "colab": {
          "base_uri": "https://localhost:8080/"
        },
        "outputId": "0b53354a-c82d-460f-f3a2-5aebeb918909"
      },
      "execution_count": 10,
      "outputs": [
        {
          "output_type": "stream",
          "name": "stdout",
          "text": [
            "Threshold of PatchCore : 5.203663945198059\n"
          ]
        }
      ]
    },
    {
      "cell_type": "code",
      "source": [
        "def save(batch_size=1, config=dict()):  # Inference에 필요한 save 함수\n",
        "    # memory_bank_path 폴더 초기화\n",
        "    if os.path.exists(memory_bank_path):\n",
        "        for file in os.listdir(memory_bank_path):\n",
        "            os.remove(os.path.join(memory_bank_path, file))\n",
        "    else:\n",
        "        os.makedirs(memory_bank_path)\n",
        "\n",
        "    patch_core = PatchCore(model, memory_bank_path=memory_bank_path, **config)\n",
        "    train_data = CustomDataset(csv_file=\"/content/data/open/train.csv\", transform=transform)\n",
        "    train_loader = DataLoader(train_data, batch_size=batch_size, shuffle=False)\n",
        "\n",
        "    for idx, x in enumerate(tqdm(train_loader)):\n",
        "        x = x[0].to(device)\n",
        "        patch_core.save_memory_bank(x, f\"memory_bank_{batch_size*idx}.pth\")"
      ],
      "metadata": {
        "id": "Umv19anCwvYq"
      },
      "execution_count": 11,
      "outputs": []
    },
    {
      "cell_type": "code",
      "source": [
        "save(batch_size=1, config=params)\n",
        "\n",
        "patch_core = PatchCore(model, memory_bank_path=memory_bank_path, **params)\n",
        "\n",
        "test_data = CustomDataset(csv_file=\"/content/data/open/test.csv\", transform=transform)\n",
        "test_loader = DataLoader(test_data, batch_size=1, shuffle=False)\n",
        "anomaly_score = torch.tensor([], device=device)\n",
        "with torch.no_grad():\n",
        "    for idx, x in tqdm(enumerate(test_loader), desc=\"query\"):\n",
        "        x = x[0].to(device)\n",
        "        l2 = patch_core.forward(x)\n",
        "\n",
        "        # for i in range(l2.shape[0]):\n",
        "        #     wandb.log({\"l2\": l2[i].item()})\n",
        "        print(f\"l2: {l2}\")\n",
        "\n",
        "        anomaly_score = torch.cat([anomaly_score, l2], dim=0)\n",
        "        anomaly_score_sorted_idx = anomaly_score.sort(descending=True).indices\n",
        "\n",
        "anomaly_score = anomaly_score.cpu()\n",
        "plt.plot(anomaly_score)\n",
        "plt.show()"
      ],
      "metadata": {
        "colab": {
          "base_uri": "https://localhost:8080/",
          "height": 1000
        },
        "id": "2JCWRzaFz2QD",
        "outputId": "68f703b7-580d-4e0b-b938-c6d1fffebd17"
      },
      "execution_count": 12,
      "outputs": [
        {
          "output_type": "stream",
          "name": "stderr",
          "text": [
            "100%|██████████| 213/213 [02:27<00:00,  1.44it/s]\n",
            "query: 1it [00:08,  8.80s/it]"
          ]
        },
        {
          "output_type": "stream",
          "name": "stdout",
          "text": [
            "l2: tensor([[5.1689]], device='cuda:0')\n"
          ]
        },
        {
          "output_type": "stream",
          "name": "stderr",
          "text": [
            "\rquery: 2it [00:17,  8.74s/it]"
          ]
        },
        {
          "output_type": "stream",
          "name": "stdout",
          "text": [
            "l2: tensor([[6.0386]], device='cuda:0')\n"
          ]
        },
        {
          "output_type": "stream",
          "name": "stderr",
          "text": [
            "\rquery: 3it [00:26,  8.71s/it]"
          ]
        },
        {
          "output_type": "stream",
          "name": "stdout",
          "text": [
            "l2: tensor([[4.1241]], device='cuda:0')\n"
          ]
        },
        {
          "output_type": "stream",
          "name": "stderr",
          "text": [
            "\rquery: 4it [00:35,  8.80s/it]"
          ]
        },
        {
          "output_type": "stream",
          "name": "stdout",
          "text": [
            "l2: tensor([[3.9337]], device='cuda:0')\n"
          ]
        },
        {
          "output_type": "stream",
          "name": "stderr",
          "text": [
            "\rquery: 5it [00:43,  8.76s/it]"
          ]
        },
        {
          "output_type": "stream",
          "name": "stdout",
          "text": [
            "l2: tensor([[4.5574]], device='cuda:0')\n"
          ]
        },
        {
          "output_type": "stream",
          "name": "stderr",
          "text": [
            "\rquery: 6it [00:52,  8.74s/it]"
          ]
        },
        {
          "output_type": "stream",
          "name": "stdout",
          "text": [
            "l2: tensor([[4.5674]], device='cuda:0')\n"
          ]
        },
        {
          "output_type": "stream",
          "name": "stderr",
          "text": [
            "\rquery: 7it [01:01,  8.74s/it]"
          ]
        },
        {
          "output_type": "stream",
          "name": "stdout",
          "text": [
            "l2: tensor([[5.9197]], device='cuda:0')\n"
          ]
        },
        {
          "output_type": "stream",
          "name": "stderr",
          "text": [
            "\rquery: 8it [01:10,  8.80s/it]"
          ]
        },
        {
          "output_type": "stream",
          "name": "stdout",
          "text": [
            "l2: tensor([[3.9163]], device='cuda:0')\n"
          ]
        },
        {
          "output_type": "stream",
          "name": "stderr",
          "text": [
            "\rquery: 9it [01:18,  8.77s/it]"
          ]
        },
        {
          "output_type": "stream",
          "name": "stdout",
          "text": [
            "l2: tensor([[4.2134]], device='cuda:0')\n"
          ]
        },
        {
          "output_type": "stream",
          "name": "stderr",
          "text": [
            "\rquery: 10it [01:27,  8.75s/it]"
          ]
        },
        {
          "output_type": "stream",
          "name": "stdout",
          "text": [
            "l2: tensor([[6.2055]], device='cuda:0')\n"
          ]
        },
        {
          "output_type": "stream",
          "name": "stderr",
          "text": [
            "\rquery: 11it [01:36,  8.74s/it]"
          ]
        },
        {
          "output_type": "stream",
          "name": "stdout",
          "text": [
            "l2: tensor([[3.6739]], device='cuda:0')\n"
          ]
        },
        {
          "output_type": "stream",
          "name": "stderr",
          "text": [
            "\rquery: 12it [01:45,  8.75s/it]"
          ]
        },
        {
          "output_type": "stream",
          "name": "stdout",
          "text": [
            "l2: tensor([[5.9747]], device='cuda:0')\n"
          ]
        },
        {
          "output_type": "stream",
          "name": "stderr",
          "text": [
            "\rquery: 13it [01:53,  8.73s/it]"
          ]
        },
        {
          "output_type": "stream",
          "name": "stdout",
          "text": [
            "l2: tensor([[3.7726]], device='cuda:0')\n"
          ]
        },
        {
          "output_type": "stream",
          "name": "stderr",
          "text": [
            "\rquery: 14it [02:02,  8.72s/it]"
          ]
        },
        {
          "output_type": "stream",
          "name": "stdout",
          "text": [
            "l2: tensor([[4.2239]], device='cuda:0')\n"
          ]
        },
        {
          "output_type": "stream",
          "name": "stderr",
          "text": [
            "\rquery: 15it [02:11,  8.74s/it]"
          ]
        },
        {
          "output_type": "stream",
          "name": "stdout",
          "text": [
            "l2: tensor([[6.5054]], device='cuda:0')\n"
          ]
        },
        {
          "output_type": "stream",
          "name": "stderr",
          "text": [
            "\rquery: 16it [02:19,  8.73s/it]"
          ]
        },
        {
          "output_type": "stream",
          "name": "stdout",
          "text": [
            "l2: tensor([[5.3614]], device='cuda:0')\n"
          ]
        },
        {
          "output_type": "stream",
          "name": "stderr",
          "text": [
            "\rquery: 17it [02:28,  8.72s/it]"
          ]
        },
        {
          "output_type": "stream",
          "name": "stdout",
          "text": [
            "l2: tensor([[3.8160]], device='cuda:0')\n"
          ]
        },
        {
          "output_type": "stream",
          "name": "stderr",
          "text": [
            "\rquery: 18it [02:37,  8.72s/it]"
          ]
        },
        {
          "output_type": "stream",
          "name": "stdout",
          "text": [
            "l2: tensor([[4.4519]], device='cuda:0')\n"
          ]
        },
        {
          "output_type": "stream",
          "name": "stderr",
          "text": [
            "\rquery: 19it [02:46,  8.78s/it]"
          ]
        },
        {
          "output_type": "stream",
          "name": "stdout",
          "text": [
            "l2: tensor([[4.2968]], device='cuda:0')\n"
          ]
        },
        {
          "output_type": "stream",
          "name": "stderr",
          "text": [
            "\rquery: 20it [02:54,  8.76s/it]"
          ]
        },
        {
          "output_type": "stream",
          "name": "stdout",
          "text": [
            "l2: tensor([[4.2519]], device='cuda:0')\n"
          ]
        },
        {
          "output_type": "stream",
          "name": "stderr",
          "text": [
            "\rquery: 21it [03:03,  8.74s/it]"
          ]
        },
        {
          "output_type": "stream",
          "name": "stdout",
          "text": [
            "l2: tensor([[3.7750]], device='cuda:0')\n"
          ]
        },
        {
          "output_type": "stream",
          "name": "stderr",
          "text": [
            "\rquery: 22it [03:12,  8.73s/it]"
          ]
        },
        {
          "output_type": "stream",
          "name": "stdout",
          "text": [
            "l2: tensor([[4.5662]], device='cuda:0')\n"
          ]
        },
        {
          "output_type": "stream",
          "name": "stderr",
          "text": [
            "\rquery: 23it [03:21,  8.78s/it]"
          ]
        },
        {
          "output_type": "stream",
          "name": "stdout",
          "text": [
            "l2: tensor([[6.2104]], device='cuda:0')\n"
          ]
        },
        {
          "output_type": "stream",
          "name": "stderr",
          "text": [
            "\rquery: 24it [03:29,  8.76s/it]"
          ]
        },
        {
          "output_type": "stream",
          "name": "stdout",
          "text": [
            "l2: tensor([[5.7576]], device='cuda:0')\n"
          ]
        },
        {
          "output_type": "stream",
          "name": "stderr",
          "text": [
            "\rquery: 25it [03:38,  8.74s/it]"
          ]
        },
        {
          "output_type": "stream",
          "name": "stdout",
          "text": [
            "l2: tensor([[5.3971]], device='cuda:0')\n"
          ]
        },
        {
          "output_type": "stream",
          "name": "stderr",
          "text": [
            "\rquery: 26it [03:47,  8.73s/it]"
          ]
        },
        {
          "output_type": "stream",
          "name": "stdout",
          "text": [
            "l2: tensor([[4.4277]], device='cuda:0')\n"
          ]
        },
        {
          "output_type": "stream",
          "name": "stderr",
          "text": [
            "\rquery: 27it [03:56,  8.72s/it]"
          ]
        },
        {
          "output_type": "stream",
          "name": "stdout",
          "text": [
            "l2: tensor([[6.6928]], device='cuda:0')\n"
          ]
        },
        {
          "output_type": "stream",
          "name": "stderr",
          "text": [
            "\rquery: 28it [04:04,  8.71s/it]"
          ]
        },
        {
          "output_type": "stream",
          "name": "stdout",
          "text": [
            "l2: tensor([[4.3887]], device='cuda:0')\n"
          ]
        },
        {
          "output_type": "stream",
          "name": "stderr",
          "text": [
            "\rquery: 29it [04:13,  8.71s/it]"
          ]
        },
        {
          "output_type": "stream",
          "name": "stdout",
          "text": [
            "l2: tensor([[4.1722]], device='cuda:0')\n"
          ]
        },
        {
          "output_type": "stream",
          "name": "stderr",
          "text": [
            "\rquery: 30it [04:22,  8.75s/it]"
          ]
        },
        {
          "output_type": "stream",
          "name": "stdout",
          "text": [
            "l2: tensor([[6.1983]], device='cuda:0')\n"
          ]
        },
        {
          "output_type": "stream",
          "name": "stderr",
          "text": [
            "\rquery: 31it [04:31,  8.74s/it]"
          ]
        },
        {
          "output_type": "stream",
          "name": "stdout",
          "text": [
            "l2: tensor([[7.8052]], device='cuda:0')\n"
          ]
        },
        {
          "output_type": "stream",
          "name": "stderr",
          "text": [
            "\rquery: 32it [04:39,  8.73s/it]"
          ]
        },
        {
          "output_type": "stream",
          "name": "stdout",
          "text": [
            "l2: tensor([[7.5554]], device='cuda:0')\n"
          ]
        },
        {
          "output_type": "stream",
          "name": "stderr",
          "text": [
            "\rquery: 33it [04:48,  8.72s/it]"
          ]
        },
        {
          "output_type": "stream",
          "name": "stdout",
          "text": [
            "l2: tensor([[5.1270]], device='cuda:0')\n"
          ]
        },
        {
          "output_type": "stream",
          "name": "stderr",
          "text": [
            "\rquery: 34it [04:57,  8.77s/it]"
          ]
        },
        {
          "output_type": "stream",
          "name": "stdout",
          "text": [
            "l2: tensor([[4.5529]], device='cuda:0')\n"
          ]
        },
        {
          "output_type": "stream",
          "name": "stderr",
          "text": [
            "\rquery: 35it [05:06,  8.76s/it]"
          ]
        },
        {
          "output_type": "stream",
          "name": "stdout",
          "text": [
            "l2: tensor([[5.1048]], device='cuda:0')\n"
          ]
        },
        {
          "output_type": "stream",
          "name": "stderr",
          "text": [
            "\rquery: 36it [05:14,  8.74s/it]"
          ]
        },
        {
          "output_type": "stream",
          "name": "stdout",
          "text": [
            "l2: tensor([[4.2668]], device='cuda:0')\n"
          ]
        },
        {
          "output_type": "stream",
          "name": "stderr",
          "text": [
            "\rquery: 37it [05:23,  8.72s/it]"
          ]
        },
        {
          "output_type": "stream",
          "name": "stdout",
          "text": [
            "l2: tensor([[5.1198]], device='cuda:0')\n"
          ]
        },
        {
          "output_type": "stream",
          "name": "stderr",
          "text": [
            "\rquery: 38it [05:32,  8.79s/it]"
          ]
        },
        {
          "output_type": "stream",
          "name": "stdout",
          "text": [
            "l2: tensor([[4.0828]], device='cuda:0')\n"
          ]
        },
        {
          "output_type": "stream",
          "name": "stderr",
          "text": [
            "\rquery: 39it [05:41,  8.76s/it]"
          ]
        },
        {
          "output_type": "stream",
          "name": "stdout",
          "text": [
            "l2: tensor([[5.9258]], device='cuda:0')\n"
          ]
        },
        {
          "output_type": "stream",
          "name": "stderr",
          "text": [
            "\rquery: 40it [05:49,  8.74s/it]"
          ]
        },
        {
          "output_type": "stream",
          "name": "stdout",
          "text": [
            "l2: tensor([[5.5197]], device='cuda:0')\n"
          ]
        },
        {
          "output_type": "stream",
          "name": "stderr",
          "text": [
            "\rquery: 41it [05:58,  8.73s/it]"
          ]
        },
        {
          "output_type": "stream",
          "name": "stdout",
          "text": [
            "l2: tensor([[4.4188]], device='cuda:0')\n"
          ]
        },
        {
          "output_type": "stream",
          "name": "stderr",
          "text": [
            "\rquery: 42it [06:07,  8.72s/it]"
          ]
        },
        {
          "output_type": "stream",
          "name": "stdout",
          "text": [
            "l2: tensor([[4.4069]], device='cuda:0')\n"
          ]
        },
        {
          "output_type": "stream",
          "name": "stderr",
          "text": [
            "\rquery: 43it [06:15,  8.72s/it]"
          ]
        },
        {
          "output_type": "stream",
          "name": "stdout",
          "text": [
            "l2: tensor([[4.2832]], device='cuda:0')\n"
          ]
        },
        {
          "output_type": "stream",
          "name": "stderr",
          "text": [
            "\rquery: 44it [06:24,  8.71s/it]"
          ]
        },
        {
          "output_type": "stream",
          "name": "stdout",
          "text": [
            "l2: tensor([[4.4059]], device='cuda:0')\n"
          ]
        },
        {
          "output_type": "stream",
          "name": "stderr",
          "text": [
            "\rquery: 45it [06:33,  8.77s/it]"
          ]
        },
        {
          "output_type": "stream",
          "name": "stdout",
          "text": [
            "l2: tensor([[7.0219]], device='cuda:0')\n"
          ]
        },
        {
          "output_type": "stream",
          "name": "stderr",
          "text": [
            "\rquery: 46it [06:42,  8.76s/it]"
          ]
        },
        {
          "output_type": "stream",
          "name": "stdout",
          "text": [
            "l2: tensor([[4.2589]], device='cuda:0')\n"
          ]
        },
        {
          "output_type": "stream",
          "name": "stderr",
          "text": [
            "\rquery: 47it [06:50,  8.74s/it]"
          ]
        },
        {
          "output_type": "stream",
          "name": "stdout",
          "text": [
            "l2: tensor([[3.9329]], device='cuda:0')\n"
          ]
        },
        {
          "output_type": "stream",
          "name": "stderr",
          "text": [
            "\rquery: 48it [06:59,  8.73s/it]"
          ]
        },
        {
          "output_type": "stream",
          "name": "stdout",
          "text": [
            "l2: tensor([[6.2567]], device='cuda:0')\n"
          ]
        },
        {
          "output_type": "stream",
          "name": "stderr",
          "text": [
            "\rquery: 49it [07:08,  8.78s/it]"
          ]
        },
        {
          "output_type": "stream",
          "name": "stdout",
          "text": [
            "l2: tensor([[3.9088]], device='cuda:0')\n"
          ]
        },
        {
          "output_type": "stream",
          "name": "stderr",
          "text": [
            "\rquery: 50it [07:17,  8.76s/it]"
          ]
        },
        {
          "output_type": "stream",
          "name": "stdout",
          "text": [
            "l2: tensor([[4.8747]], device='cuda:0')\n"
          ]
        },
        {
          "output_type": "stream",
          "name": "stderr",
          "text": [
            "\rquery: 51it [07:25,  8.74s/it]"
          ]
        },
        {
          "output_type": "stream",
          "name": "stdout",
          "text": [
            "l2: tensor([[3.7672]], device='cuda:0')\n"
          ]
        },
        {
          "output_type": "stream",
          "name": "stderr",
          "text": [
            "\rquery: 52it [07:34,  8.73s/it]"
          ]
        },
        {
          "output_type": "stream",
          "name": "stdout",
          "text": [
            "l2: tensor([[4.3121]], device='cuda:0')\n"
          ]
        },
        {
          "output_type": "stream",
          "name": "stderr",
          "text": [
            "\rquery: 53it [07:43,  8.75s/it]"
          ]
        },
        {
          "output_type": "stream",
          "name": "stdout",
          "text": [
            "l2: tensor([[4.0559]], device='cuda:0')\n"
          ]
        },
        {
          "output_type": "stream",
          "name": "stderr",
          "text": [
            "\rquery: 54it [07:52,  8.73s/it]"
          ]
        },
        {
          "output_type": "stream",
          "name": "stdout",
          "text": [
            "l2: tensor([[8.4749]], device='cuda:0')\n"
          ]
        },
        {
          "output_type": "stream",
          "name": "stderr",
          "text": [
            "\rquery: 55it [08:00,  8.72s/it]"
          ]
        },
        {
          "output_type": "stream",
          "name": "stdout",
          "text": [
            "l2: tensor([[4.0084]], device='cuda:0')\n"
          ]
        },
        {
          "output_type": "stream",
          "name": "stderr",
          "text": [
            "\rquery: 56it [08:09,  8.72s/it]"
          ]
        },
        {
          "output_type": "stream",
          "name": "stdout",
          "text": [
            "l2: tensor([[8.2782]], device='cuda:0')\n"
          ]
        },
        {
          "output_type": "stream",
          "name": "stderr",
          "text": [
            "\rquery: 57it [08:18,  8.71s/it]"
          ]
        },
        {
          "output_type": "stream",
          "name": "stdout",
          "text": [
            "l2: tensor([[4.5331]], device='cuda:0')\n"
          ]
        },
        {
          "output_type": "stream",
          "name": "stderr",
          "text": [
            "\rquery: 58it [08:26,  8.71s/it]"
          ]
        },
        {
          "output_type": "stream",
          "name": "stdout",
          "text": [
            "l2: tensor([[6.0481]], device='cuda:0')\n"
          ]
        },
        {
          "output_type": "stream",
          "name": "stderr",
          "text": [
            "\rquery: 59it [08:35,  8.71s/it]"
          ]
        },
        {
          "output_type": "stream",
          "name": "stdout",
          "text": [
            "l2: tensor([[4.2089]], device='cuda:0')\n"
          ]
        },
        {
          "output_type": "stream",
          "name": "stderr",
          "text": [
            "\rquery: 60it [08:44,  8.77s/it]"
          ]
        },
        {
          "output_type": "stream",
          "name": "stdout",
          "text": [
            "l2: tensor([[4.3412]], device='cuda:0')\n"
          ]
        },
        {
          "output_type": "stream",
          "name": "stderr",
          "text": [
            "\rquery: 61it [08:53,  8.75s/it]"
          ]
        },
        {
          "output_type": "stream",
          "name": "stdout",
          "text": [
            "l2: tensor([[4.5231]], device='cuda:0')\n"
          ]
        },
        {
          "output_type": "stream",
          "name": "stderr",
          "text": [
            "\rquery: 62it [09:02,  8.74s/it]"
          ]
        },
        {
          "output_type": "stream",
          "name": "stdout",
          "text": [
            "l2: tensor([[3.9238]], device='cuda:0')\n"
          ]
        },
        {
          "output_type": "stream",
          "name": "stderr",
          "text": [
            "\rquery: 63it [09:10,  8.74s/it]"
          ]
        },
        {
          "output_type": "stream",
          "name": "stdout",
          "text": [
            "l2: tensor([[3.9682]], device='cuda:0')\n"
          ]
        },
        {
          "output_type": "stream",
          "name": "stderr",
          "text": [
            "\rquery: 64it [09:19,  8.80s/it]"
          ]
        },
        {
          "output_type": "stream",
          "name": "stdout",
          "text": [
            "l2: tensor([[6.8154]], device='cuda:0')\n"
          ]
        },
        {
          "output_type": "stream",
          "name": "stderr",
          "text": [
            "\rquery: 65it [09:28,  8.78s/it]"
          ]
        },
        {
          "output_type": "stream",
          "name": "stdout",
          "text": [
            "l2: tensor([[4.3069]], device='cuda:0')\n"
          ]
        },
        {
          "output_type": "stream",
          "name": "stderr",
          "text": [
            "\rquery: 66it [09:37,  8.77s/it]"
          ]
        },
        {
          "output_type": "stream",
          "name": "stdout",
          "text": [
            "l2: tensor([[4.3211]], device='cuda:0')\n"
          ]
        },
        {
          "output_type": "stream",
          "name": "stderr",
          "text": [
            "\rquery: 67it [09:45,  8.75s/it]"
          ]
        },
        {
          "output_type": "stream",
          "name": "stdout",
          "text": [
            "l2: tensor([[6.1964]], device='cuda:0')\n"
          ]
        },
        {
          "output_type": "stream",
          "name": "stderr",
          "text": [
            "\rquery: 68it [09:54,  8.75s/it]"
          ]
        },
        {
          "output_type": "stream",
          "name": "stdout",
          "text": [
            "l2: tensor([[4.5143]], device='cuda:0')\n"
          ]
        },
        {
          "output_type": "stream",
          "name": "stderr",
          "text": [
            "\rquery: 69it [10:03,  8.74s/it]"
          ]
        },
        {
          "output_type": "stream",
          "name": "stdout",
          "text": [
            "l2: tensor([[3.9320]], device='cuda:0')\n"
          ]
        },
        {
          "output_type": "stream",
          "name": "stderr",
          "text": [
            "\rquery: 70it [10:12,  8.73s/it]"
          ]
        },
        {
          "output_type": "stream",
          "name": "stdout",
          "text": [
            "l2: tensor([[7.6811]], device='cuda:0')\n"
          ]
        },
        {
          "output_type": "stream",
          "name": "stderr",
          "text": [
            "\rquery: 71it [10:20,  8.76s/it]"
          ]
        },
        {
          "output_type": "stream",
          "name": "stdout",
          "text": [
            "l2: tensor([[3.9549]], device='cuda:0')\n"
          ]
        },
        {
          "output_type": "stream",
          "name": "stderr",
          "text": [
            "\rquery: 72it [10:29,  8.75s/it]"
          ]
        },
        {
          "output_type": "stream",
          "name": "stdout",
          "text": [
            "l2: tensor([[4.0219]], device='cuda:0')\n"
          ]
        },
        {
          "output_type": "stream",
          "name": "stderr",
          "text": [
            "\rquery: 73it [10:38,  8.75s/it]"
          ]
        },
        {
          "output_type": "stream",
          "name": "stdout",
          "text": [
            "l2: tensor([[4.1507]], device='cuda:0')\n"
          ]
        },
        {
          "output_type": "stream",
          "name": "stderr",
          "text": [
            "\rquery: 74it [10:47,  8.74s/it]"
          ]
        },
        {
          "output_type": "stream",
          "name": "stdout",
          "text": [
            "l2: tensor([[4.3384]], device='cuda:0')\n"
          ]
        },
        {
          "output_type": "stream",
          "name": "stderr",
          "text": [
            "\rquery: 75it [10:55,  8.80s/it]"
          ]
        },
        {
          "output_type": "stream",
          "name": "stdout",
          "text": [
            "l2: tensor([[5.8245]], device='cuda:0')\n"
          ]
        },
        {
          "output_type": "stream",
          "name": "stderr",
          "text": [
            "\rquery: 76it [11:04,  8.77s/it]"
          ]
        },
        {
          "output_type": "stream",
          "name": "stdout",
          "text": [
            "l2: tensor([[4.1390]], device='cuda:0')\n"
          ]
        },
        {
          "output_type": "stream",
          "name": "stderr",
          "text": [
            "\rquery: 77it [11:13,  8.76s/it]"
          ]
        },
        {
          "output_type": "stream",
          "name": "stdout",
          "text": [
            "l2: tensor([[4.1907]], device='cuda:0')\n"
          ]
        },
        {
          "output_type": "stream",
          "name": "stderr",
          "text": [
            "\rquery: 78it [11:22,  8.73s/it]"
          ]
        },
        {
          "output_type": "stream",
          "name": "stdout",
          "text": [
            "l2: tensor([[6.7839]], device='cuda:0')\n"
          ]
        },
        {
          "output_type": "stream",
          "name": "stderr",
          "text": [
            "\rquery: 79it [11:31,  8.79s/it]"
          ]
        },
        {
          "output_type": "stream",
          "name": "stdout",
          "text": [
            "l2: tensor([[3.9384]], device='cuda:0')\n"
          ]
        },
        {
          "output_type": "stream",
          "name": "stderr",
          "text": [
            "\rquery: 80it [11:39,  8.76s/it]"
          ]
        },
        {
          "output_type": "stream",
          "name": "stdout",
          "text": [
            "l2: tensor([[7.5090]], device='cuda:0')\n"
          ]
        },
        {
          "output_type": "stream",
          "name": "stderr",
          "text": [
            "\rquery: 81it [11:48,  8.75s/it]"
          ]
        },
        {
          "output_type": "stream",
          "name": "stdout",
          "text": [
            "l2: tensor([[4.2732]], device='cuda:0')\n"
          ]
        },
        {
          "output_type": "stream",
          "name": "stderr",
          "text": [
            "\rquery: 82it [11:57,  8.73s/it]"
          ]
        },
        {
          "output_type": "stream",
          "name": "stdout",
          "text": [
            "l2: tensor([[6.4671]], device='cuda:0')\n"
          ]
        },
        {
          "output_type": "stream",
          "name": "stderr",
          "text": [
            "\rquery: 83it [12:05,  8.73s/it]"
          ]
        },
        {
          "output_type": "stream",
          "name": "stdout",
          "text": [
            "l2: tensor([[4.7599]], device='cuda:0')\n"
          ]
        },
        {
          "output_type": "stream",
          "name": "stderr",
          "text": [
            "\rquery: 84it [12:14,  8.73s/it]"
          ]
        },
        {
          "output_type": "stream",
          "name": "stdout",
          "text": [
            "l2: tensor([[4.3980]], device='cuda:0')\n"
          ]
        },
        {
          "output_type": "stream",
          "name": "stderr",
          "text": [
            "\rquery: 85it [12:23,  8.72s/it]"
          ]
        },
        {
          "output_type": "stream",
          "name": "stdout",
          "text": [
            "l2: tensor([[4.3419]], device='cuda:0')\n"
          ]
        },
        {
          "output_type": "stream",
          "name": "stderr",
          "text": [
            "\rquery: 86it [12:32,  8.76s/it]"
          ]
        },
        {
          "output_type": "stream",
          "name": "stdout",
          "text": [
            "l2: tensor([[5.4644]], device='cuda:0')\n"
          ]
        },
        {
          "output_type": "stream",
          "name": "stderr",
          "text": [
            "\rquery: 87it [12:40,  8.74s/it]"
          ]
        },
        {
          "output_type": "stream",
          "name": "stdout",
          "text": [
            "l2: tensor([[6.4519]], device='cuda:0')\n"
          ]
        },
        {
          "output_type": "stream",
          "name": "stderr",
          "text": [
            "\rquery: 88it [12:49,  8.73s/it]"
          ]
        },
        {
          "output_type": "stream",
          "name": "stdout",
          "text": [
            "l2: tensor([[4.3983]], device='cuda:0')\n"
          ]
        },
        {
          "output_type": "stream",
          "name": "stderr",
          "text": [
            "\rquery: 89it [12:58,  8.73s/it]"
          ]
        },
        {
          "output_type": "stream",
          "name": "stdout",
          "text": [
            "l2: tensor([[6.7078]], device='cuda:0')\n"
          ]
        },
        {
          "output_type": "stream",
          "name": "stderr",
          "text": [
            "\rquery: 90it [13:07,  8.77s/it]"
          ]
        },
        {
          "output_type": "stream",
          "name": "stdout",
          "text": [
            "l2: tensor([[4.3414]], device='cuda:0')\n"
          ]
        },
        {
          "output_type": "stream",
          "name": "stderr",
          "text": [
            "\rquery: 91it [13:15,  8.75s/it]"
          ]
        },
        {
          "output_type": "stream",
          "name": "stdout",
          "text": [
            "l2: tensor([[6.1169]], device='cuda:0')\n"
          ]
        },
        {
          "output_type": "stream",
          "name": "stderr",
          "text": [
            "\rquery: 92it [13:24,  8.74s/it]"
          ]
        },
        {
          "output_type": "stream",
          "name": "stdout",
          "text": [
            "l2: tensor([[5.1006]], device='cuda:0')\n"
          ]
        },
        {
          "output_type": "stream",
          "name": "stderr",
          "text": [
            "\rquery: 93it [13:33,  8.73s/it]"
          ]
        },
        {
          "output_type": "stream",
          "name": "stdout",
          "text": [
            "l2: tensor([[6.7445]], device='cuda:0')\n"
          ]
        },
        {
          "output_type": "stream",
          "name": "stderr",
          "text": [
            "\rquery: 94it [13:42,  8.74s/it]"
          ]
        },
        {
          "output_type": "stream",
          "name": "stdout",
          "text": [
            "l2: tensor([[8.7674]], device='cuda:0')\n"
          ]
        },
        {
          "output_type": "stream",
          "name": "stderr",
          "text": [
            "\rquery: 95it [13:50,  8.73s/it]"
          ]
        },
        {
          "output_type": "stream",
          "name": "stdout",
          "text": [
            "l2: tensor([[6.7292]], device='cuda:0')\n"
          ]
        },
        {
          "output_type": "stream",
          "name": "stderr",
          "text": [
            "\rquery: 96it [13:59,  8.72s/it]"
          ]
        },
        {
          "output_type": "stream",
          "name": "stdout",
          "text": [
            "l2: tensor([[6.2310]], device='cuda:0')\n"
          ]
        },
        {
          "output_type": "stream",
          "name": "stderr",
          "text": [
            "\rquery: 97it [14:08,  8.74s/it]"
          ]
        },
        {
          "output_type": "stream",
          "name": "stdout",
          "text": [
            "l2: tensor([[4.1731]], device='cuda:0')\n"
          ]
        },
        {
          "output_type": "stream",
          "name": "stderr",
          "text": [
            "\rquery: 98it [14:16,  8.72s/it]"
          ]
        },
        {
          "output_type": "stream",
          "name": "stdout",
          "text": [
            "l2: tensor([[4.6627]], device='cuda:0')\n"
          ]
        },
        {
          "output_type": "stream",
          "name": "stderr",
          "text": [
            "\rquery: 99it [14:25,  8.72s/it]"
          ]
        },
        {
          "output_type": "stream",
          "name": "stdout",
          "text": [
            "l2: tensor([[7.5453]], device='cuda:0')\n"
          ]
        },
        {
          "output_type": "stream",
          "name": "stderr",
          "text": [
            "query: 100it [14:34,  8.74s/it]"
          ]
        },
        {
          "output_type": "stream",
          "name": "stdout",
          "text": [
            "l2: tensor([[7.4465]], device='cuda:0')\n"
          ]
        },
        {
          "output_type": "stream",
          "name": "stderr",
          "text": [
            "\n"
          ]
        },
        {
          "output_type": "display_data",
          "data": {
            "text/plain": [
              "<Figure size 640x480 with 1 Axes>"
            ],
            "image/png": "[encoded data removed]"
          },
          "metadata": {}
        }
      ]
    },
    {
      "cell_type": "code",
      "source": [
        "# Threshold 보다 크면 이상치로 판별\n",
        "data = anomaly_score\n",
        "data = [idx for idx, d in enumerate(data) if d > Threshold]\n",
        "outliers_idx1 = data\n",
        "print(outliers_idx1)"
      ],
      "metadata": {
        "colab": {
          "base_uri": "https://localhost:8080/"
        },
        "id": "z9_-hU1Zz2-K",
        "outputId": "5b256936-ff25-4157-e858-d84ad9116508"
      },
      "execution_count": 13,
      "outputs": [
        {
          "output_type": "stream",
          "name": "stdout",
          "text": [
            "[1, 6, 9, 11, 14, 15, 22, 23, 24, 26, 29, 30, 31, 38, 39, 44, 47, 53, 55, 57, 63, 66, 69, 74, 77, 79, 81, 85, 86, 88, 90, 92, 93, 94, 95, 98, 99]\n"
          ]
        }
      ]
    },
    {
      "cell_type": "code",
      "source": [
        "count = 0 #맞은 개수\n",
        "fault = [] #틀린 것 인덱스\n",
        "test_label = pd.read_csv('/content/data/open/test.csv')['label'].tolist()\n",
        "\n",
        "for idx in range(len(test_label)):\n",
        "  tr = 1 if anomaly_score[idx] > Threshold else 0\n",
        "  if tr == test_label[idx]:\n",
        "    count += 1\n",
        "  else:\n",
        "    fault.append(idx)\n",
        "\n",
        "accuracy = count / len(test_label) #정확도\n",
        "print(accuracy)\n",
        "print(fault)"
      ],
      "metadata": {
        "colab": {
          "base_uri": "https://localhost:8080/"
        },
        "id": "PEr4sXEa3dEN",
        "outputId": "2d8ee778-66a3-4570-a24c-3a79c80e2e60"
      },
      "execution_count": 14,
      "outputs": [
        {
          "output_type": "stream",
          "name": "stdout",
          "text": [
            "0.97\n",
            "[34, 83, 91]\n"
          ]
        }
      ]
    }
  ]
}